{
  "cells": [
    {
      "cell_type": "code",
      "execution_count": 1,
      "metadata": {
        "id": "jzmrRj8lzJIv"
      },
      "outputs": [],
      "source": [
        "import os\n",
        "import argparse\n",
        "import datetime\n",
        "import time\n",
        "\n",
        "\n",
        "import torch\n",
        "import torch.nn as nn\n",
        "from torch import optim\n",
        "from torchvision import datasets, transforms\n",
        "\n",
        "import numpy as np\n",
        "from sklearn.metrics import confusion_matrix, accuracy_score\n",
        "import matplotlib.pyplot as plt"
      ]
    },
    {
      "cell_type": "code",
      "execution_count": 2,
      "metadata": {
        "id": "HMyxN-ZLzQW_"
      },
      "outputs": [],
      "source": [
        "def get_loader(args):\n",
        "    if args.dataset == 'mnist':\n",
        "        # Transforms for train\n",
        "        train_transform = transforms.Compose([transforms.Resize([args.image_size, args.image_size]),\n",
        "                                            transforms.RandomCrop(args.image_size, padding=2),\n",
        "                                            transforms.ToTensor(),\n",
        "                                            transforms.Normalize([0.5], [0.5])])\n",
        "        train = datasets.MNIST(os.path.join(args.data_path, args.dataset), train=True, download=True, transform=train_transform)\n",
        "\n",
        "        # Transforms for test\n",
        "        test_transform = transforms.Compose([transforms.Resize([args.image_size, args.image_size]), transforms.ToTensor(), transforms.Normalize([0.5], [0.5])])\n",
        "        test = datasets.MNIST(os.path.join(args.data_path, args.dataset), train=False, download=True, transform=test_transform)\n",
        "\n",
        "\n",
        "    elif args.dataset == 'fmnist':\n",
        "        train_transform = transforms.Compose([transforms.Resize([args.image_size, args.image_size]),\n",
        "                                            transforms.RandomCrop(args.image_size, padding=2),\n",
        "                                            transforms.RandomHorizontalFlip(),\n",
        "                                            transforms.ToTensor(),\n",
        "                                            transforms.Normalize([0.5], [0.5])])\n",
        "        train = datasets.FashionMNIST(os.path.join(args.data_path, args.dataset), train=True, download=True, transform=train_transform)\n",
        "\n",
        "        test_transform = transforms.Compose([transforms.Resize([args.image_size, args.image_size]), transforms.ToTensor(), transforms.Normalize([0.5], [0.5])])\n",
        "        test = datasets.FashionMNIST(os.path.join(args.data_path, args.dataset), train=False, download=True, transform=test_transform)\n",
        "\n",
        "\n",
        "    elif args.dataset == 'svhn':\n",
        "        train_transform = transforms.Compose([transforms.Resize([args.image_size, args.image_size]),\n",
        "                                            transforms.RandomCrop(args.image_size, padding=2),\n",
        "                                            transforms.ToTensor(),\n",
        "                                            transforms.Normalize([0.4376821, 0.4437697, 0.47280442], [0.19803012, 0.20101562, 0.19703614])])\n",
        "        train = datasets.SVHN(os.path.join(args.data_path, args.dataset), split='train', download=True, transform=train_transform)\n",
        "\n",
        "        test_transform = transforms.Compose([transforms.Resize([args.image_size, args.image_size]), transforms.ToTensor(), transforms.Normalize([0.4376821, 0.4437697, 0.47280442], [0.19803012, 0.20101562, 0.19703614])])\n",
        "        test = datasets.SVHN(os.path.join(args.data_path, args.dataset), split='test', download=True, transform=test_transform)\n",
        "\n",
        "    elif args.dataset == 'cifar10':\n",
        "        train_transform = transforms.Compose([transforms.Resize([args.image_size, args.image_size]),\n",
        "                                            transforms.RandomCrop(args.image_size, padding=4),\n",
        "                                            transforms.RandomHorizontalFlip(),\n",
        "                                            transforms.RandAugment(),  # RandAugment augmentation for strong regularization\n",
        "                                            transforms.ToTensor(),\n",
        "                                            transforms.Normalize([0.4914, 0.4822, 0.4465], [0.2470, 0.2435, 0.2616])])\n",
        "        train = datasets.CIFAR10(os.path.join(args.data_path, args.dataset), train=True, download=True, transform=train_transform)\n",
        "\n",
        "        test_transform = transforms.Compose([transforms.Resize([args.image_size, args.image_size]), transforms.ToTensor(), transforms.Normalize([0.4914, 0.4822, 0.4465], [0.2470, 0.2435, 0.2616])])\n",
        "        test = datasets.CIFAR10(os.path.join(args.data_path, args.dataset), train=False, download=True, transform=test_transform)\n",
        "\n",
        "    else:\n",
        "        print(\"Unknown dataset\")\n",
        "        exit(0)\n",
        "\n",
        "    # Define dataloaders\n",
        "    train_loader = torch.utils.data.DataLoader(dataset=train,\n",
        "                                                 batch_size=args.batch_size,\n",
        "                                                 shuffle=True,\n",
        "                                                 num_workers=args.n_workers,\n",
        "                                                 drop_last=True)\n",
        "\n",
        "    test_loader = torch.utils.data.DataLoader(dataset=test,\n",
        "                                                batch_size=args.batch_size,\n",
        "                                                shuffle=False,\n",
        "                                                num_workers=args.n_workers,\n",
        "                                                drop_last=False)\n",
        "\n",
        "    return train_loader, test_loader"
      ]
    },
    {
      "cell_type": "code",
      "execution_count": 3,
      "metadata": {
        "id": "YLGZ3fsKzagU"
      },
      "outputs": [],
      "source": [
        "# B -> Batch Size\n",
        "# C -> Number of Input Channels\n",
        "# IH -> Image Height\n",
        "# IW -> Image Width\n",
        "# P -> Patch Size\n",
        "# E -> Embedding Dimension\n",
        "# S -> Sequence Length = IH/P * IW/P\n",
        "# Q -> Query Sequence length (same as S for self-attention)\n",
        "# K -> Key Sequence length (same as S for self-attention)\n",
        "# V -> Value Sequence length (same as S for self-attention)\n",
        "# H -> Number of heads\n",
        "# HE -> Head Embedding Dimension = E/H\n",
        "\n",
        "\n",
        "class EmbedLayer(nn.Module):\n",
        "    def __init__(self, n_channels, embed_dim, image_size, patch_size, dropout=0.0):\n",
        "        super().__init__()\n",
        "        self.conv1 = nn.Conv2d(n_channels, embed_dim, kernel_size=patch_size, stride=patch_size)  # Pixel Encoding\n",
        "        self.cls_token = nn.Parameter(torch.zeros(1, 1, embed_dim), requires_grad=True)  # Cls Token\n",
        "        self.pos_embedding = nn.Parameter(torch.zeros(1, (image_size // patch_size) ** 2 + 1, embed_dim), requires_grad=True)  # Positional Embedding\n",
        "        self.dropout = nn.Dropout(dropout)\n",
        "\n",
        "    def forward(self, x):\n",
        "        x = self.conv1(x)  # B C IH IW -> B E IH/P IW/P (Embedding the patches)\n",
        "        x = x.reshape([x.shape[0], x.shape[1], -1])  # B E IH/P IW/P -> B E S (Flattening the patches)\n",
        "        x = x.transpose(1, 2)  # B E S -> B S E\n",
        "        x = torch.cat((torch.repeat_interleave(self.cls_token, x.shape[0], 0), x), dim=1)  # Adding classification token at the start of every sequence\n",
        "        x = x + self.pos_embedding  # Adding positional embedding\n",
        "\n",
        "        x = self.dropout(x)\n",
        "        return x\n",
        "\n",
        "\n",
        "class SelfAttention(nn.Module):\n",
        "    def __init__(self, embed_dim, n_attention_heads):\n",
        "        super().__init__()\n",
        "        self.embed_dim = embed_dim\n",
        "        self.n_attention_heads = n_attention_heads\n",
        "        self.head_embed_dim = embed_dim // n_attention_heads\n",
        "\n",
        "        self.queries = nn.Linear(self.embed_dim, self.head_embed_dim * self.n_attention_heads) # Queries projection\n",
        "        self.keys = nn.Linear(self.embed_dim, self.head_embed_dim * self.n_attention_heads)    # Keys projection\n",
        "        self.values = nn.Linear(self.embed_dim, self.head_embed_dim * self.n_attention_heads)  # Values projection\n",
        "\n",
        "        self.out_projection = nn.Linear(self.embed_dim, self.embed_dim)\n",
        "\n",
        "    def forward(self, x):\n",
        "        b, s, e = x.shape\n",
        "\n",
        "        xq = self.queries(x).reshape(b, s, self.n_attention_heads, self.head_embed_dim)  # B, Q, E -> B, Q, H, HE\n",
        "        xq = xq.transpose(1, 2)  # B, Q, H, HE -> B, H, Q, HE\n",
        "        xk = self.keys(x).reshape(b, s, self.n_attention_heads, self.head_embed_dim)  # B, K, E -> B, K, H, HE\n",
        "        xk = xk.transpose(1, 2)  # B, K, H, HE -> B, H, K, HE\n",
        "        xv = self.values(x).reshape(b, s, self.n_attention_heads, self.head_embed_dim)  # B, V, E -> B, V, H, HE\n",
        "        xv = xv.transpose(1, 2)  # B, V, H, HE -> B, H, V, HE\n",
        "\n",
        "        # Compute Attention presoftmax values\n",
        "        xk = xk.transpose(-1, -2)  # B, H, K, HE -> B, H, HE, K\n",
        "        x_attention = torch.matmul(xq, xk)  # B, H, Q, HE  *  B, H, HE, K -> B, H, Q, K\n",
        "\n",
        "        # Scale presoftmax values for stability\n",
        "        x_attention /= float(self.head_embed_dim) ** 0.5\n",
        "\n",
        "        # Compute Attention Matrix\n",
        "        x_attention = torch.softmax(x_attention, dim=-1)\n",
        "\n",
        "        # Compute Attention Values\n",
        "        x = torch.matmul(x_attention, xv)  # B, H, Q, K * B, H, V, HE -> B, H, Q, HE\n",
        "\n",
        "        # Format the output\n",
        "        x = x.transpose(1, 2)  # B, H, Q, HE -> B, Q, H, HE\n",
        "        x = x.reshape(b, s, e)  # B, Q, H, HE -> B, Q, E\n",
        "\n",
        "        x = self.out_projection(x)  # B, Q, E -> B, Q, E\n",
        "        return x\n",
        "\n",
        "\n",
        "class Encoder(nn.Module):\n",
        "    def __init__(self, embed_dim, n_attention_heads, forward_mul, dropout=0.0):\n",
        "        super().__init__()\n",
        "        self.norm1 = nn.LayerNorm(embed_dim)\n",
        "        self.attention = SelfAttention(embed_dim, n_attention_heads)\n",
        "        self.dropout1 = nn.Dropout(dropout)\n",
        "\n",
        "        self.norm2 = nn.LayerNorm(embed_dim)\n",
        "        self.fc1 = nn.Linear(embed_dim, embed_dim * forward_mul)\n",
        "        self.activation = nn.GELU()\n",
        "        self.fc2 = nn.Linear(embed_dim * forward_mul, embed_dim)\n",
        "        self.dropout2 = nn.Dropout(dropout)\n",
        "\n",
        "    def forward(self, x):\n",
        "        x = x + self.dropout1(self.attention(self.norm1(x))) # Skip connections\n",
        "        x = x + self.dropout2(self.fc2(self.activation(self.fc1(self.norm2(x)))))  # Skip connections\n",
        "        return x\n",
        "\n",
        "\n",
        "class Classifier(nn.Module):\n",
        "    def __init__(self, embed_dim, n_classes):\n",
        "        super().__init__()\n",
        "        # New architectures skip fc1 and activations and directly apply fc2.\n",
        "        self.fc1 = nn.Linear(embed_dim, embed_dim)\n",
        "        self.activation = nn.Tanh()\n",
        "        self.fc2 = nn.Linear(embed_dim, n_classes)\n",
        "\n",
        "    def forward(self, x):\n",
        "        x = x[:, 0, :]  # Get CLS token\n",
        "        x = self.fc1(x)\n",
        "        x = self.activation(x)\n",
        "        x = self.fc2(x)\n",
        "        return x\n",
        "\n",
        "\n",
        "class VisionTransformer(nn.Module):\n",
        "    def __init__(self, n_channels, embed_dim, n_layers, n_attention_heads, forward_mul, image_size, patch_size, n_classes, dropout=0.1):\n",
        "        super().__init__()\n",
        "        self.embedding = EmbedLayer(n_channels, embed_dim, image_size, patch_size, dropout=dropout)\n",
        "        self.encoder = nn.ModuleList([Encoder(embed_dim, n_attention_heads, forward_mul, dropout=dropout) for _ in range(n_layers)])\n",
        "        self.norm = nn.LayerNorm(embed_dim) # Final normalization layer after the last block\n",
        "        self.classifier = Classifier(embed_dim, n_classes)\n",
        "\n",
        "\n",
        "        self.apply(vit_init_weights) # Weight initalization\n",
        "\n",
        "    def forward(self, x):\n",
        "        x = self.embedding(x)\n",
        "        for block in self.encoder:\n",
        "            x = block(x)\n",
        "        x = self.norm(x)\n",
        "        x = self.classifier(x)\n",
        "        return x\n",
        "\n",
        "\n",
        "def vit_init_weights(m):\n",
        "    if isinstance(m, nn.Conv2d) or isinstance(m, nn.Linear):\n",
        "        nn.init.trunc_normal_(m.weight, mean=0.0, std=0.02)\n",
        "        if m.bias is not None:\n",
        "            nn.init.constant_(m.bias, 0)\n",
        "\n",
        "    elif isinstance(m, nn.LayerNorm):\n",
        "        nn.init.constant_(m.weight, 1)\n",
        "        nn.init.constant_(m.bias, 0)\n",
        "\n",
        "    elif isinstance(m, EmbedLayer):\n",
        "        nn.init.trunc_normal_(m.cls_token, mean=0.0, std=0.02)\n",
        "        nn.init.trunc_normal_(m.pos_embedding, mean=0.0, std=0.02)"
      ]
    },
    {
      "cell_type": "code",
      "execution_count": 25,
      "metadata": {
        "id": "x3cv6xGvoXof"
      },
      "outputs": [],
      "source": [
        "class Solver(object):\n",
        "\tdef __init__(self, args):\n",
        "\t\tself.args = args\n",
        "\n",
        "\t\t# Get data loaders\n",
        "\t\tself.train_loader, self.test_loader = get_loader(args)\n",
        "\n",
        "\t\t# Create object of the Vision Transformer\n",
        "\t\tself.model = VisionTransformer(n_channels=self.args.n_channels, embed_dim=self.args.embed_dim,\n",
        "\t\t\t\t\t\t\t\t\t\tn_layers=self.args.n_layers, n_attention_heads=self.args.n_attention_heads,\n",
        "\t\t\t\t\t\t\t\t\t\tforward_mul=self.args.forward_mul, image_size=self.args.image_size,\n",
        "\t\t\t\t\t\t\t\t\t\tpatch_size=self.args.patch_size, n_classes=self.args.n_classes, dropout=self.args.dropout)\n",
        "\n",
        "\t\t# Push to GPU\n",
        "\t\tif self.args.is_cuda:\n",
        "\t\t\tprint(\"Using GPU\")\n",
        "\t\t\tself.model = self.model.cuda()\n",
        "\t\telse:\n",
        "\t\t\tprint(\"Cuda not available.\")\n",
        "\n",
        "\t\t# Display Vision Transformer\n",
        "\t\tprint('--------Network--------')\n",
        "\t\tprint(self.model)\n",
        "\n",
        "\t\t# Option to load pretrained model\n",
        "\t\tif args.load_model:\n",
        "\t\t\tprint(\"Using pretrained model\")\n",
        "\t\t\tself.model.load_state_dict(torch.load(os.path.join(self.args.model_path, 'ViT_model.pt')))\n",
        "\n",
        "\t\t# Training loss function\n",
        "\t\tself.loss_fn = nn.CrossEntropyLoss()\n",
        "\n",
        "\t\t# Arrays to record training progression\n",
        "\t\tself.train_losses = []\n",
        "\t\tself.test_losses = []\n",
        "\t\tself.train_accuracies = []\n",
        "\t\tself.test_accuracies = []\n",
        "\n",
        "\tdef test_dataset(self, loader):\n",
        "\t\t# Set Vision Transformer to evaluation mode\n",
        "\t\tself.model.eval()\n",
        "\n",
        "\t\t# Arrays to record all labels and logits\n",
        "\t\tall_labels = []\n",
        "\t\tall_logits = []\n",
        "\n",
        "\t\t# Testing loop\n",
        "\t\tfor (x, y) in loader:\n",
        "\t\t\tif self.args.is_cuda:\n",
        "\t\t\t\tx = x.cuda()\n",
        "\n",
        "\t\t\t# Avoid capturing gradients in evaluation time for faster speed\n",
        "\t\t\twith torch.no_grad():\n",
        "\t\t\t\tlogits = self.model(x)\n",
        "\n",
        "\t\t\tall_labels.append(y)\n",
        "\t\t\tall_logits.append(logits.cpu())\n",
        "\n",
        "\t\t# Convert all captured variables to torch\n",
        "\t\tall_labels = torch.cat(all_labels)\n",
        "\t\tall_logits = torch.cat(all_logits)\n",
        "\t\tall_pred = all_logits.max(1)[1]\n",
        "\n",
        "\t\t# Compute loss, accuracy and confusion matrix\n",
        "\t\tloss = self.loss_fn(all_logits, all_labels).item()\n",
        "\t\tacc = accuracy_score(y_true=all_labels, y_pred=all_pred)\n",
        "\t\tcm = confusion_matrix(y_true=all_labels, y_pred=all_pred, labels=range(self.args.n_classes))\n",
        "\n",
        "\t\treturn acc, cm, loss\n",
        "\n",
        "\tdef test(self, train=True):\n",
        "\t\tif train:\n",
        "\t\t\t# Test using train loader\n",
        "\t\t\tacc, cm, loss = self.test_dataset(self.train_loader)\n",
        "\t\t\tprint(f\"Train acc: {acc:.2%}\\tTrain loss: {loss:.4f}\\nTrain Confusion Matrix:\")\n",
        "\t\t\tprint(cm)\n",
        "\n",
        "\t\t# Test using test loader\n",
        "\t\tacc, cm, loss = self.test_dataset(self.test_loader)\n",
        "\t\tprint(f\"Test acc: {acc:.2%}\\tTest loss: {loss:.4f}\\nTrain Confusion Matrix:\")\n",
        "\t\tprint(cm)\n",
        "\n",
        "\t\treturn acc, loss\n",
        "\n",
        "\tdef train(self):\n",
        "\t\titers_per_epoch = len(self.train_loader)\n",
        "\n",
        "\t\t# Define optimizer for training the model\n",
        "\t\toptimizer = optim.AdamW(self.model.parameters(), lr=self.args.lr, weight_decay=1e-3)\n",
        "\n",
        "\t\t# scheduler for linear warmup of lr and then cosine decay\n",
        "\t\tlinear_warmup = optim.lr_scheduler.LinearLR(optimizer, start_factor=1/self.args.warmup_epochs, end_factor=1.0, total_iters=self.args.warmup_epochs-1, last_epoch=-1, verbose=True)\n",
        "\t\tcos_decay = optim.lr_scheduler.CosineAnnealingLR(optimizer=optimizer, T_max=self.args.epochs-self.args.warmup_epochs, eta_min=1e-5, verbose=True)\n",
        "\n",
        "\t\t# Variable to capture best test accuracy\n",
        "\t\tbest_acc = 0\n",
        "\n",
        "\t\t# Training loop\n",
        "\t\tfor epoch in range(self.args.epochs):\n",
        "\n",
        "\t\t\t# Set model to training mode\n",
        "\t\t\tself.model.train()\n",
        "\n",
        "\t\t\t# Arrays to record epoch loss and accuracy\n",
        "\t\t\ttrain_epoch_loss = []\n",
        "\t\t\ttrain_epoch_accuracy = []\n",
        "\n",
        "\t\t\t# Loop on loader\n",
        "\t\t\tfor i, (x, y) in enumerate(self.train_loader):\n",
        "\n",
        "\t\t\t\t# Push to GPU\n",
        "\t\t\t\tif self.args.is_cuda:\n",
        "\t\t\t\t\tx, y = x.cuda(), y.cuda()\n",
        "\n",
        "\t\t\t\t# Get output logits from the model\n",
        "\t\t\t\tlogits = self.model(x)\n",
        "\n",
        "\t\t\t\t# Compute training loss\n",
        "\t\t\t\tloss = self.loss_fn(logits, y)\n",
        "\n",
        "\t\t\t\t# Updating the model\n",
        "\t\t\t\toptimizer.zero_grad()\n",
        "\t\t\t\tloss.backward()\n",
        "\t\t\t\toptimizer.step()\n",
        "\n",
        "\t\t\t\t# Batch metrics\n",
        "\t\t\t\tbatch_pred = logits.max(1)[1]\n",
        "\t\t\t\tbatch_accuracy = (y==batch_pred).float().mean()\n",
        "\t\t\t\ttrain_epoch_loss += [loss.item()]\n",
        "\t\t\t\ttrain_epoch_accuracy += [batch_accuracy.item()]\n",
        "\n",
        "\t\t\t\t# Log training progress\n",
        "\t\t\t\tif i % 50 == 0 or i == (iters_per_epoch - 1):\n",
        "\t\t\t\t\tprint(f'Ep: {epoch+1}/{self.args.epochs}\\tIt: {i+1}/{iters_per_epoch}\\tbatch_loss: {loss:.4f}\\tbatch_accuracy: {batch_accuracy:.2%}')\n",
        "\n",
        "\t\t\t# Test the test set after every epoch\n",
        "\t\t\ttest_acc, test_loss = self.test(train=((epoch+1)%25==0)) # Test training set every 25 epochs\n",
        "\n",
        "\t\t\t# Capture best test accuracy\n",
        "\t\t\tbest_acc = max(test_acc, best_acc)\n",
        "\t\t\tprint(f\"Best test acc: {best_acc:.2%}\\n\")\n",
        "\n",
        "\t\t\t# Save model\n",
        "\t\t\ttorch.save(self.model.state_dict(), os.path.join(self.args.model_path, \"ViT_model.pt\"))\n",
        "\n",
        "\t\t\t# Update learning rate using schedulers\n",
        "\t\t\tif epoch < self.args.warmup_epochs:\n",
        "\t\t\t\tlinear_warmup.step()\n",
        "\t\t\telse:\n",
        "\t\t\t\tcos_decay.step()\n",
        "\n",
        "\t\t\t# Update training progression metric arrays\n",
        "\t\t\tself.train_losses += [sum(train_epoch_loss)/iters_per_epoch]\n",
        "\t\t\tself.test_losses += [test_loss]\n",
        "\t\t\tself.train_accuracies += [sum(train_epoch_accuracy)/iters_per_epoch]\n",
        "\t\t\tself.test_accuracies += [test_acc]\n",
        "\n",
        "\tdef plot_mnist_predictions(self):\n",
        "\t\t# Download MNIST test set\n",
        "\t\t# mnist_test = datasets.MNIST(root='./data', train=False, download=True, transform=transforms.ToTensor())\n",
        "\t\t# mnist_loader = torch.utils.data.DataLoader(mnist_test, batch_size=10, shuffle=True)\n",
        "\n",
        "\t\t# Get 10 random samples from MNIST test set\n",
        "\t\ttest_ld = iter(self.test_loader)\n",
        "\t\timages, labels = next(test_ld)\n",
        "\n",
        "\t\t# Move images to the device\n",
        "\t\tif self.args.is_cuda:\n",
        "\t\t\timages = images.cuda()\n",
        "\n",
        "\t\t# Generate predictions\n",
        "\t\t# with torch.no_grad():\n",
        "\t\tself.model.eval()\n",
        "\t\tpredictions = self.model(images).argmax(dim=1).cpu().numpy()\n",
        "\n",
        "\t\t# Plot images with predictions\n",
        "\t\tfig, axes = plt.subplots(2, 5, figsize=(12, 6))\n",
        "\t\tfig.suptitle('MNIST Samples with Predictions', fontsize=16)\n",
        "\n",
        "\t\tfor i, (image, label, prediction) in enumerate(zip(images, labels, predictions)):\n",
        "\t\t\tax = axes[i // 5, i % 5]\n",
        "\t\t\tax.imshow(image.squeeze().cpu().numpy(), cmap='gray')\n",
        "\t\t\tax.set_title(f\"Label: {label}, Prediction: {prediction}\")\n",
        "\t\t\tax.axis('off')\n",
        "\n",
        "\t\tplt.tight_layout()\n",
        "\t\tplt.show()\n",
        "\n",
        "\tdef plot_graphs(self):\n",
        "\t\t# Plot graph of loss values\n",
        "\t\tplt.plot(self.train_losses, color='b', label='Train')\n",
        "\t\tplt.plot(self.test_losses, color='r', label='Test')\n",
        "\n",
        "\t\tplt.ylabel('Loss', fontsize = 18)\n",
        "\t\tplt.yticks(fontsize=16)\n",
        "\t\tplt.xlabel('Epoch', fontsize = 18)\n",
        "\t\tplt.xticks(fontsize=16)\n",
        "\t\tplt.legend(fontsize=15, frameon=False)\n",
        "\n",
        "\t\t# plt.show()  # Option to view graph while training\n",
        "\t\tplt.savefig(os.path.join(self.args.output_path, 'graph_loss.png'), bbox_inches='tight')\n",
        "\t\tplt.close('all')\n",
        "\n",
        "\n",
        "\t\t# Plot graph of accuracies\n",
        "\t\tplt.plot(self.train_accuracies, color='b', label='Train')\n",
        "\t\tplt.plot(self.test_accuracies, color='r', label='Test')\n",
        "\n",
        "\t\tplt.ylabel('Accuracy', fontsize = 18)\n",
        "\t\tplt.yticks(fontsize=16)\n",
        "\t\tplt.xlabel('Epoch', fontsize = 18)\n",
        "\t\tplt.xticks(fontsize=16)\n",
        "\t\tplt.legend(fontsize=15, frameon=False)\n",
        "\n",
        "\t\t# plt.show()  # Option to view graph while training\n",
        "\t\tplt.savefig(os.path.join(self.args.output_path, 'graph_accuracy.png'), bbox_inches='tight')\n",
        "\t\tplt.close('all')"
      ]
    },
    {
      "cell_type": "code",
      "execution_count": 5,
      "metadata": {
        "id": "d0Brxtgk1vfa"
      },
      "outputs": [],
      "source": [
        "def main(args):\n",
        "    # Create required directories if they don't exist\n",
        "    os.makedirs(args.model_path, exist_ok=True)\n",
        "    os.makedirs(args.output_path, exist_ok=True)\n",
        "\n",
        "    solver = Solver(args)\n",
        "    solver.train()                  # Training function\n",
        "    solver.plot_graphs()            # Training plots\n",
        "    solver.test(train=True)         # Testing function\n",
        "\n",
        "\n",
        "# Print arguments\n",
        "def print_args(args):\n",
        "    for k in dict(sorted(vars(args).items())).items():\n",
        "        print(k)\n",
        "    print()\n"
      ]
    },
    {
      "cell_type": "code",
      "execution_count": 6,
      "metadata": {
        "colab": {
          "base_uri": "https://localhost:8080/"
        },
        "id": "uhwvZgGLPwS4",
        "outputId": "751727e2-580c-4d6e-fa51-2af7cef8e2fa"
      },
      "outputs": [
        {
          "name": "stdout",
          "output_type": "stream",
          "text": [
            "Started at 2024-05-11 06:23:29\n",
            "Downloading http://yann.lecun.com/exdb/mnist/train-images-idx3-ubyte.gz\n",
            "Failed to download (trying next):\n",
            "HTTP Error 403: Forbidden\n",
            "\n",
            "Downloading https://ossci-datasets.s3.amazonaws.com/mnist/train-images-idx3-ubyte.gz\n",
            "Downloading https://ossci-datasets.s3.amazonaws.com/mnist/train-images-idx3-ubyte.gz to ./data/mnist/MNIST/raw/train-images-idx3-ubyte.gz\n"
          ]
        },
        {
          "name": "stderr",
          "output_type": "stream",
          "text": [
            "100%|██████████| 9912422/9912422 [00:00<00:00, 37000127.48it/s]\n"
          ]
        },
        {
          "name": "stdout",
          "output_type": "stream",
          "text": [
            "Extracting ./data/mnist/MNIST/raw/train-images-idx3-ubyte.gz to ./data/mnist/MNIST/raw\n",
            "\n",
            "Downloading http://yann.lecun.com/exdb/mnist/train-labels-idx1-ubyte.gz\n",
            "Failed to download (trying next):\n",
            "HTTP Error 403: Forbidden\n",
            "\n",
            "Downloading https://ossci-datasets.s3.amazonaws.com/mnist/train-labels-idx1-ubyte.gz\n",
            "Downloading https://ossci-datasets.s3.amazonaws.com/mnist/train-labels-idx1-ubyte.gz to ./data/mnist/MNIST/raw/train-labels-idx1-ubyte.gz\n"
          ]
        },
        {
          "name": "stderr",
          "output_type": "stream",
          "text": [
            "100%|██████████| 28881/28881 [00:00<00:00, 3926602.72it/s]\n"
          ]
        },
        {
          "name": "stdout",
          "output_type": "stream",
          "text": [
            "Extracting ./data/mnist/MNIST/raw/train-labels-idx1-ubyte.gz to ./data/mnist/MNIST/raw\n",
            "\n",
            "Downloading http://yann.lecun.com/exdb/mnist/t10k-images-idx3-ubyte.gz\n",
            "Failed to download (trying next):\n",
            "HTTP Error 403: Forbidden\n",
            "\n",
            "Downloading https://ossci-datasets.s3.amazonaws.com/mnist/t10k-images-idx3-ubyte.gz\n",
            "Downloading https://ossci-datasets.s3.amazonaws.com/mnist/t10k-images-idx3-ubyte.gz to ./data/mnist/MNIST/raw/t10k-images-idx3-ubyte.gz\n"
          ]
        },
        {
          "name": "stderr",
          "output_type": "stream",
          "text": [
            "100%|██████████| 1648877/1648877 [00:00<00:00, 10345867.04it/s]\n"
          ]
        },
        {
          "name": "stdout",
          "output_type": "stream",
          "text": [
            "Extracting ./data/mnist/MNIST/raw/t10k-images-idx3-ubyte.gz to ./data/mnist/MNIST/raw\n",
            "\n",
            "Downloading http://yann.lecun.com/exdb/mnist/t10k-labels-idx1-ubyte.gz\n",
            "Failed to download (trying next):\n",
            "HTTP Error 403: Forbidden\n",
            "\n",
            "Downloading https://ossci-datasets.s3.amazonaws.com/mnist/t10k-labels-idx1-ubyte.gz\n",
            "Downloading https://ossci-datasets.s3.amazonaws.com/mnist/t10k-labels-idx1-ubyte.gz to ./data/mnist/MNIST/raw/t10k-labels-idx1-ubyte.gz\n"
          ]
        },
        {
          "name": "stderr",
          "output_type": "stream",
          "text": [
            "100%|██████████| 4542/4542 [00:00<00:00, 10636811.15it/s]"
          ]
        },
        {
          "name": "stdout",
          "output_type": "stream",
          "text": [
            "Extracting ./data/mnist/MNIST/raw/t10k-labels-idx1-ubyte.gz to ./data/mnist/MNIST/raw\n",
            "\n"
          ]
        },
        {
          "name": "stderr",
          "output_type": "stream",
          "text": [
            "\n",
            "/usr/local/lib/python3.10/dist-packages/torch/utils/data/dataloader.py:558: UserWarning: This DataLoader will create 4 worker processes in total. Our suggested max number of worker in current system is 2, which is smaller than what this DataLoader is going to create. Please be aware that excessive worker creation might get DataLoader running slow or even freeze, lower the worker number to avoid potential slowness/freeze if necessary.\n",
            "  warnings.warn(_create_warning_msg(\n"
          ]
        },
        {
          "name": "stdout",
          "output_type": "stream",
          "text": [
            "Using GPU\n",
            "--------Network--------\n",
            "VisionTransformer(\n",
            "  (embedding): EmbedLayer(\n",
            "    (conv1): Conv2d(1, 64, kernel_size=(4, 4), stride=(4, 4))\n",
            "    (dropout): Dropout(p=0.1, inplace=False)\n",
            "  )\n",
            "  (encoder): ModuleList(\n",
            "    (0-5): 6 x Encoder(\n",
            "      (norm1): LayerNorm((64,), eps=1e-05, elementwise_affine=True)\n",
            "      (attention): SelfAttention(\n",
            "        (queries): Linear(in_features=64, out_features=64, bias=True)\n",
            "        (keys): Linear(in_features=64, out_features=64, bias=True)\n",
            "        (values): Linear(in_features=64, out_features=64, bias=True)\n",
            "        (out_projection): Linear(in_features=64, out_features=64, bias=True)\n",
            "      )\n",
            "      (dropout1): Dropout(p=0.1, inplace=False)\n",
            "      (norm2): LayerNorm((64,), eps=1e-05, elementwise_affine=True)\n",
            "      (fc1): Linear(in_features=64, out_features=128, bias=True)\n",
            "      (activation): GELU(approximate='none')\n",
            "      (fc2): Linear(in_features=128, out_features=64, bias=True)\n",
            "      (dropout2): Dropout(p=0.1, inplace=False)\n",
            "    )\n",
            "  )\n",
            "  (norm): LayerNorm((64,), eps=1e-05, elementwise_affine=True)\n",
            "  (classifier): Classifier(\n",
            "    (fc1): Linear(in_features=64, out_features=64, bias=True)\n",
            "    (activation): Tanh()\n",
            "    (fc2): Linear(in_features=64, out_features=10, bias=True)\n",
            "  )\n",
            ")\n"
          ]
        },
        {
          "name": "stderr",
          "output_type": "stream",
          "text": [
            "/usr/local/lib/python3.10/dist-packages/torch/optim/lr_scheduler.py:28: UserWarning: The verbose parameter is deprecated. Please use get_last_lr() to access the learning rate.\n",
            "  warnings.warn(\"The verbose parameter is deprecated. Please use get_last_lr() \"\n",
            "/usr/lib/python3.10/multiprocessing/popen_fork.py:66: RuntimeWarning: os.fork() was called. os.fork() is incompatible with multithreaded code, and JAX is multithreaded, so this will likely lead to a deadlock.\n",
            "  self.pid = os.fork()\n"
          ]
        },
        {
          "name": "stdout",
          "output_type": "stream",
          "text": [
            "Ep: 1/20\tIt: 1/468\tbatch_loss: 2.3036\tbatch_accuracy: 5.47%\n",
            "Ep: 1/20\tIt: 51/468\tbatch_loss: 2.3016\tbatch_accuracy: 11.72%\n",
            "Ep: 1/20\tIt: 101/468\tbatch_loss: 2.2687\tbatch_accuracy: 17.97%\n",
            "Ep: 1/20\tIt: 151/468\tbatch_loss: 2.2569\tbatch_accuracy: 16.41%\n",
            "Ep: 1/20\tIt: 201/468\tbatch_loss: 2.1952\tbatch_accuracy: 26.56%\n",
            "Ep: 1/20\tIt: 251/468\tbatch_loss: 2.1826\tbatch_accuracy: 19.53%\n",
            "Ep: 1/20\tIt: 301/468\tbatch_loss: 2.1701\tbatch_accuracy: 14.84%\n",
            "Ep: 1/20\tIt: 351/468\tbatch_loss: 2.0561\tbatch_accuracy: 18.75%\n",
            "Ep: 1/20\tIt: 401/468\tbatch_loss: 1.9895\tbatch_accuracy: 29.69%\n",
            "Ep: 1/20\tIt: 451/468\tbatch_loss: 2.0084\tbatch_accuracy: 23.44%\n",
            "Ep: 1/20\tIt: 468/468\tbatch_loss: 2.0435\tbatch_accuracy: 20.31%\n",
            "Test acc: 27.52%\tTest loss: 1.9427\n",
            "Train Confusion Matrix:\n",
            "[[ 662    4  163   78    0    0   21   30    0   22]\n",
            " [   2 1085    4    1    0    0    1   40    0    2]\n",
            " [ 606    3  235  121    0    0   18   25    0   24]\n",
            " [ 543    3  268  119    0    0   17   28    0   32]\n",
            " [  29  223   59  111    0    0   64  383    0  113]\n",
            " [ 414    1  269  130    0    0   20   32    0   26]\n",
            " [ 327   16  229  188    0    0   54   75    0   69]\n",
            " [  33  204   65  122    0    0   42  427    0  135]\n",
            " [ 331    8  287  207    0    0   28   66    0   47]\n",
            " [  50   70  111  206    0    0   69  333    0  170]]\n",
            "Best test acc: 27.52%\n",
            "\n"
          ]
        },
        {
          "name": "stderr",
          "output_type": "stream",
          "text": [
            "/usr/local/lib/python3.10/dist-packages/torch/utils/data/dataloader.py:558: UserWarning: This DataLoader will create 4 worker processes in total. Our suggested max number of worker in current system is 2, which is smaller than what this DataLoader is going to create. Please be aware that excessive worker creation might get DataLoader running slow or even freeze, lower the worker number to avoid potential slowness/freeze if necessary.\n",
            "  warnings.warn(_create_warning_msg(\n",
            "/usr/lib/python3.10/multiprocessing/popen_fork.py:66: RuntimeWarning: os.fork() was called. os.fork() is incompatible with multithreaded code, and JAX is multithreaded, so this will likely lead to a deadlock.\n",
            "  self.pid = os.fork()\n"
          ]
        },
        {
          "name": "stdout",
          "output_type": "stream",
          "text": [
            "Ep: 2/20\tIt: 1/468\tbatch_loss: 1.9906\tbatch_accuracy: 25.78%\n",
            "Ep: 2/20\tIt: 51/468\tbatch_loss: 1.9158\tbatch_accuracy: 32.81%\n",
            "Ep: 2/20\tIt: 101/468\tbatch_loss: 1.7795\tbatch_accuracy: 32.03%\n",
            "Ep: 2/20\tIt: 151/468\tbatch_loss: 1.7217\tbatch_accuracy: 32.81%\n",
            "Ep: 2/20\tIt: 201/468\tbatch_loss: 1.7103\tbatch_accuracy: 37.50%\n",
            "Ep: 2/20\tIt: 251/468\tbatch_loss: 1.7397\tbatch_accuracy: 37.50%\n",
            "Ep: 2/20\tIt: 301/468\tbatch_loss: 1.7123\tbatch_accuracy: 39.84%\n",
            "Ep: 2/20\tIt: 351/468\tbatch_loss: 1.5565\tbatch_accuracy: 42.97%\n",
            "Ep: 2/20\tIt: 401/468\tbatch_loss: 1.5098\tbatch_accuracy: 38.28%\n",
            "Ep: 2/20\tIt: 451/468\tbatch_loss: 1.4252\tbatch_accuracy: 49.22%\n",
            "Ep: 2/20\tIt: 468/468\tbatch_loss: 1.4273\tbatch_accuracy: 42.97%\n",
            "Test acc: 48.40%\tTest loss: 1.3775\n",
            "Train Confusion Matrix:\n",
            "[[ 878    1   31   29    4   19    5    1   11    1]\n",
            " [   2 1113    0    2    0    5    1    8    2    2]\n",
            " [ 214    0  116  407    1  202   26    7   56    3]\n",
            " [  39    0   34  360    0  540    7    5   14   11]\n",
            " [   9   88    0    0  394    2   42  327    3  117]\n",
            " [  11    3   11  222    0  618    7    6    8    6]\n",
            " [ 284   15   10   49   31   53  249   22  160   85]\n",
            " [   3  129    2    8   83   50   26  596    9  122]\n",
            " [ 292    5   51  248    5   87   86    6  185    9]\n",
            " [  15   32    2    7   28   20   69  498    7  331]]\n",
            "Best test acc: 48.40%\n",
            "\n"
          ]
        },
        {
          "name": "stderr",
          "output_type": "stream",
          "text": [
            "/usr/local/lib/python3.10/dist-packages/torch/utils/data/dataloader.py:558: UserWarning: This DataLoader will create 4 worker processes in total. Our suggested max number of worker in current system is 2, which is smaller than what this DataLoader is going to create. Please be aware that excessive worker creation might get DataLoader running slow or even freeze, lower the worker number to avoid potential slowness/freeze if necessary.\n",
            "  warnings.warn(_create_warning_msg(\n",
            "/usr/lib/python3.10/multiprocessing/popen_fork.py:66: RuntimeWarning: os.fork() was called. os.fork() is incompatible with multithreaded code, and JAX is multithreaded, so this will likely lead to a deadlock.\n",
            "  self.pid = os.fork()\n"
          ]
        },
        {
          "name": "stdout",
          "output_type": "stream",
          "text": [
            "Ep: 3/20\tIt: 1/468\tbatch_loss: 1.4736\tbatch_accuracy: 50.00%\n",
            "Ep: 3/20\tIt: 51/468\tbatch_loss: 1.3689\tbatch_accuracy: 48.44%\n",
            "Ep: 3/20\tIt: 101/468\tbatch_loss: 1.4047\tbatch_accuracy: 53.12%\n",
            "Ep: 3/20\tIt: 151/468\tbatch_loss: 1.2990\tbatch_accuracy: 49.22%\n",
            "Ep: 3/20\tIt: 201/468\tbatch_loss: 1.2953\tbatch_accuracy: 49.22%\n",
            "Ep: 3/20\tIt: 251/468\tbatch_loss: 1.3120\tbatch_accuracy: 51.56%\n",
            "Ep: 3/20\tIt: 301/468\tbatch_loss: 1.1123\tbatch_accuracy: 54.69%\n",
            "Ep: 3/20\tIt: 351/468\tbatch_loss: 1.0712\tbatch_accuracy: 57.81%\n",
            "Ep: 3/20\tIt: 401/468\tbatch_loss: 1.0623\tbatch_accuracy: 60.16%\n",
            "Ep: 3/20\tIt: 451/468\tbatch_loss: 1.0982\tbatch_accuracy: 63.28%\n"
          ]
        },
        {
          "name": "stderr",
          "output_type": "stream",
          "text": [
            "/usr/lib/python3.10/multiprocessing/popen_fork.py:66: RuntimeWarning: os.fork() was called. os.fork() is incompatible with multithreaded code, and JAX is multithreaded, so this will likely lead to a deadlock.\n",
            "  self.pid = os.fork()\n"
          ]
        },
        {
          "name": "stdout",
          "output_type": "stream",
          "text": [
            "Ep: 3/20\tIt: 468/468\tbatch_loss: 0.9857\tbatch_accuracy: 62.50%\n",
            "Test acc: 63.95%\tTest loss: 0.9951\n",
            "Train Confusion Matrix:\n",
            "[[ 758    0    9   16   85    2   71    4   19   16]\n",
            " [   0 1110    0    4    4    3    0   12    1    1]\n",
            " [   4    0  231  484    3   69    8   72  142   19]\n",
            " [   0    3   21  725    0  185    1   65    8    2]\n",
            " [   0    6    0    0  866    0    6   20    0   84]\n",
            " [   1    2    8  554    0  258    0   50    8   11]\n",
            " [   5    7   14   13  245    9  482    4  119   60]\n",
            " [   0    9    0    7   26   14    0  949    1   22]\n",
            " [  12    2  161  134   11   16   84   23  469   62]\n",
            " [   1    2    0    9   92    5    3  344    6  547]]\n",
            "Best test acc: 63.95%\n",
            "\n"
          ]
        },
        {
          "name": "stderr",
          "output_type": "stream",
          "text": [
            "/usr/local/lib/python3.10/dist-packages/torch/utils/data/dataloader.py:558: UserWarning: This DataLoader will create 4 worker processes in total. Our suggested max number of worker in current system is 2, which is smaller than what this DataLoader is going to create. Please be aware that excessive worker creation might get DataLoader running slow or even freeze, lower the worker number to avoid potential slowness/freeze if necessary.\n",
            "  warnings.warn(_create_warning_msg(\n",
            "/usr/lib/python3.10/multiprocessing/popen_fork.py:66: RuntimeWarning: os.fork() was called. os.fork() is incompatible with multithreaded code, and JAX is multithreaded, so this will likely lead to a deadlock.\n",
            "  self.pid = os.fork()\n"
          ]
        },
        {
          "name": "stdout",
          "output_type": "stream",
          "text": [
            "Ep: 4/20\tIt: 1/468\tbatch_loss: 1.1063\tbatch_accuracy: 55.47%\n",
            "Ep: 4/20\tIt: 51/468\tbatch_loss: 1.1184\tbatch_accuracy: 56.25%\n",
            "Ep: 4/20\tIt: 101/468\tbatch_loss: 0.9359\tbatch_accuracy: 71.09%\n",
            "Ep: 4/20\tIt: 151/468\tbatch_loss: 0.9844\tbatch_accuracy: 57.03%\n",
            "Ep: 4/20\tIt: 201/468\tbatch_loss: 0.9949\tbatch_accuracy: 67.97%\n",
            "Ep: 4/20\tIt: 251/468\tbatch_loss: 1.0599\tbatch_accuracy: 67.97%\n",
            "Ep: 4/20\tIt: 301/468\tbatch_loss: 0.8386\tbatch_accuracy: 69.53%\n",
            "Ep: 4/20\tIt: 351/468\tbatch_loss: 0.7474\tbatch_accuracy: 74.22%\n",
            "Ep: 4/20\tIt: 401/468\tbatch_loss: 0.8406\tbatch_accuracy: 66.41%\n",
            "Ep: 4/20\tIt: 451/468\tbatch_loss: 0.8073\tbatch_accuracy: 75.78%\n",
            "Ep: 4/20\tIt: 468/468\tbatch_loss: 0.6827\tbatch_accuracy: 75.78%\n",
            "Test acc: 79.73%\tTest loss: 0.6073\n",
            "Train Confusion Matrix:\n",
            "[[ 944    0    0    1   10    0   10    5    4    6]\n",
            " [   0 1119    1    8    0    0    1    6    0    0]\n",
            " [  13    0  741   91    2   17   13   12  129   14]\n",
            " [   3    3   35  790    0  143    0   23    9    4]\n",
            " [   1    9    0    0  916    1   10    8    0   37]\n",
            " [  11    2   13  525    1  315    3    7   10    5]\n",
            " [  26    6   14    1   82    3  788    0   36    2]\n",
            " [   0   19    6   35    4    4    0  951    2    7]\n",
            " [  34    5   88   13    1    5   69    6  703   50]\n",
            " [   5    6    2    8   65   16    0  196    5  706]]\n",
            "Best test acc: 79.73%\n",
            "\n"
          ]
        },
        {
          "name": "stderr",
          "output_type": "stream",
          "text": [
            "/usr/local/lib/python3.10/dist-packages/torch/utils/data/dataloader.py:558: UserWarning: This DataLoader will create 4 worker processes in total. Our suggested max number of worker in current system is 2, which is smaller than what this DataLoader is going to create. Please be aware that excessive worker creation might get DataLoader running slow or even freeze, lower the worker number to avoid potential slowness/freeze if necessary.\n",
            "  warnings.warn(_create_warning_msg(\n",
            "/usr/lib/python3.10/multiprocessing/popen_fork.py:66: RuntimeWarning: os.fork() was called. os.fork() is incompatible with multithreaded code, and JAX is multithreaded, so this will likely lead to a deadlock.\n",
            "  self.pid = os.fork()\n"
          ]
        },
        {
          "name": "stdout",
          "output_type": "stream",
          "text": [
            "Ep: 5/20\tIt: 1/468\tbatch_loss: 0.7072\tbatch_accuracy: 74.22%\n",
            "Ep: 5/20\tIt: 51/468\tbatch_loss: 0.8441\tbatch_accuracy: 73.44%\n",
            "Ep: 5/20\tIt: 101/468\tbatch_loss: 0.9795\tbatch_accuracy: 68.75%\n",
            "Ep: 5/20\tIt: 151/468\tbatch_loss: 0.7739\tbatch_accuracy: 75.00%\n",
            "Ep: 5/20\tIt: 201/468\tbatch_loss: 0.7917\tbatch_accuracy: 77.34%\n",
            "Ep: 5/20\tIt: 251/468\tbatch_loss: 0.5450\tbatch_accuracy: 82.81%\n",
            "Ep: 5/20\tIt: 301/468\tbatch_loss: 0.6127\tbatch_accuracy: 81.25%\n",
            "Ep: 5/20\tIt: 351/468\tbatch_loss: 0.5439\tbatch_accuracy: 84.38%\n",
            "Ep: 5/20\tIt: 401/468\tbatch_loss: 0.6863\tbatch_accuracy: 81.25%\n",
            "Ep: 5/20\tIt: 451/468\tbatch_loss: 0.6776\tbatch_accuracy: 78.91%\n",
            "Ep: 5/20\tIt: 468/468\tbatch_loss: 0.5610\tbatch_accuracy: 82.03%\n",
            "Test acc: 89.58%\tTest loss: 0.3801\n",
            "Train Confusion Matrix:\n",
            "[[ 939    1    2    0    8    8   11    2    3    6]\n",
            " [   0 1118    3    3    0    2    4    5    0    0]\n",
            " [   9    1  886   39    3    5   10   34   34   11]\n",
            " [   1    3   12  757    0  183    1   41    7    5]\n",
            " [   0    1    0    0  931    0    5    8    0   37]\n",
            " [   4    1    2   31    1  829    3    7    6    8]\n",
            " [   8    5    1    0   54   11  872    0    7    0]\n",
            " [   1    7    7    5    1    1    0 1001    0    5]\n",
            " [  26    3   11   12    5   20   26   10  771   90]\n",
            " [   6    1    0    2   40   16    0   84    6  854]]\n",
            "Best test acc: 89.58%\n",
            "\n"
          ]
        },
        {
          "name": "stderr",
          "output_type": "stream",
          "text": [
            "/usr/local/lib/python3.10/dist-packages/torch/utils/data/dataloader.py:558: UserWarning: This DataLoader will create 4 worker processes in total. Our suggested max number of worker in current system is 2, which is smaller than what this DataLoader is going to create. Please be aware that excessive worker creation might get DataLoader running slow or even freeze, lower the worker number to avoid potential slowness/freeze if necessary.\n",
            "  warnings.warn(_create_warning_msg(\n",
            "/usr/lib/python3.10/multiprocessing/popen_fork.py:66: RuntimeWarning: os.fork() was called. os.fork() is incompatible with multithreaded code, and JAX is multithreaded, so this will likely lead to a deadlock.\n",
            "  self.pid = os.fork()\n"
          ]
        },
        {
          "name": "stdout",
          "output_type": "stream",
          "text": [
            "Ep: 6/20\tIt: 1/468\tbatch_loss: 0.7596\tbatch_accuracy: 75.78%\n",
            "Ep: 6/20\tIt: 51/468\tbatch_loss: 0.5136\tbatch_accuracy: 83.59%\n",
            "Ep: 6/20\tIt: 101/468\tbatch_loss: 0.4419\tbatch_accuracy: 85.16%\n",
            "Ep: 6/20\tIt: 151/468\tbatch_loss: 0.5424\tbatch_accuracy: 82.81%\n",
            "Ep: 6/20\tIt: 201/468\tbatch_loss: 0.4129\tbatch_accuracy: 86.72%\n",
            "Ep: 6/20\tIt: 251/468\tbatch_loss: 0.4351\tbatch_accuracy: 89.84%\n",
            "Ep: 6/20\tIt: 301/468\tbatch_loss: 0.3872\tbatch_accuracy: 85.16%\n",
            "Ep: 6/20\tIt: 351/468\tbatch_loss: 0.4539\tbatch_accuracy: 82.03%\n",
            "Ep: 6/20\tIt: 401/468\tbatch_loss: 0.4737\tbatch_accuracy: 85.16%\n",
            "Ep: 6/20\tIt: 451/468\tbatch_loss: 0.4080\tbatch_accuracy: 90.62%\n"
          ]
        },
        {
          "name": "stderr",
          "output_type": "stream",
          "text": [
            "/usr/lib/python3.10/multiprocessing/popen_fork.py:66: RuntimeWarning: os.fork() was called. os.fork() is incompatible with multithreaded code, and JAX is multithreaded, so this will likely lead to a deadlock.\n",
            "  self.pid = os.fork()\n"
          ]
        },
        {
          "name": "stdout",
          "output_type": "stream",
          "text": [
            "Ep: 6/20\tIt: 468/468\tbatch_loss: 0.3708\tbatch_accuracy: 87.50%\n",
            "Test acc: 93.41%\tTest loss: 0.2387\n",
            "Train Confusion Matrix:\n",
            "[[ 963    0    3    1    1    1    5    0    4    2]\n",
            " [   5 1106    4    4    1    1    5    4    3    2]\n",
            " [   5    1  977   22    1    0    0    8   13    5]\n",
            " [   1    2    7  970    0   11    0    8    9    2]\n",
            " [   1    4    0    0  906    0   11    4    1   55]\n",
            " [   3    1    2  128    0  721    6    2   26    3]\n",
            " [   9    5    5    1    3    6  921    0    8    0]\n",
            " [   3    9   20   19    0    0    0  959    2   16]\n",
            " [  21    0    9   19    1    2   16    1  898    7]\n",
            " [  11    4    0   11   13    6    1   13   30  920]]\n",
            "Best test acc: 93.41%\n",
            "\n"
          ]
        },
        {
          "name": "stderr",
          "output_type": "stream",
          "text": [
            "/usr/local/lib/python3.10/dist-packages/torch/utils/data/dataloader.py:558: UserWarning: This DataLoader will create 4 worker processes in total. Our suggested max number of worker in current system is 2, which is smaller than what this DataLoader is going to create. Please be aware that excessive worker creation might get DataLoader running slow or even freeze, lower the worker number to avoid potential slowness/freeze if necessary.\n",
            "  warnings.warn(_create_warning_msg(\n",
            "/usr/lib/python3.10/multiprocessing/popen_fork.py:66: RuntimeWarning: os.fork() was called. os.fork() is incompatible with multithreaded code, and JAX is multithreaded, so this will likely lead to a deadlock.\n",
            "  self.pid = os.fork()\n"
          ]
        },
        {
          "name": "stdout",
          "output_type": "stream",
          "text": [
            "Ep: 7/20\tIt: 1/468\tbatch_loss: 0.2277\tbatch_accuracy: 92.97%\n",
            "Ep: 7/20\tIt: 51/468\tbatch_loss: 0.5633\tbatch_accuracy: 86.72%\n",
            "Ep: 7/20\tIt: 101/468\tbatch_loss: 0.3306\tbatch_accuracy: 89.06%\n",
            "Ep: 7/20\tIt: 151/468\tbatch_loss: 0.3294\tbatch_accuracy: 90.62%\n",
            "Ep: 7/20\tIt: 201/468\tbatch_loss: 0.4132\tbatch_accuracy: 88.28%\n",
            "Ep: 7/20\tIt: 251/468\tbatch_loss: 0.2769\tbatch_accuracy: 92.19%\n",
            "Ep: 7/20\tIt: 301/468\tbatch_loss: 0.2767\tbatch_accuracy: 90.62%\n",
            "Ep: 7/20\tIt: 351/468\tbatch_loss: 0.3348\tbatch_accuracy: 91.41%\n",
            "Ep: 7/20\tIt: 401/468\tbatch_loss: 0.2172\tbatch_accuracy: 95.31%\n",
            "Ep: 7/20\tIt: 451/468\tbatch_loss: 0.3599\tbatch_accuracy: 88.28%\n"
          ]
        },
        {
          "name": "stderr",
          "output_type": "stream",
          "text": [
            "/usr/lib/python3.10/multiprocessing/popen_fork.py:66: RuntimeWarning: os.fork() was called. os.fork() is incompatible with multithreaded code, and JAX is multithreaded, so this will likely lead to a deadlock.\n",
            "  self.pid = os.fork()\n"
          ]
        },
        {
          "name": "stdout",
          "output_type": "stream",
          "text": [
            "Ep: 7/20\tIt: 468/468\tbatch_loss: 0.2006\tbatch_accuracy: 94.53%\n",
            "Test acc: 95.16%\tTest loss: 0.1725\n",
            "Train Confusion Matrix:\n",
            "[[ 964    0    7    1    2    0    1    1    2    2]\n",
            " [   0 1120    6    2    0    0    4    3    0    0]\n",
            " [   2    0 1018    4    1    0    0    3    0    4]\n",
            " [   1    2   16  967    0   15    0    6    3    0]\n",
            " [   1    1    2    1  894    0    4    1    1   77]\n",
            " [   2    2    1   22    0  850    5    1    7    2]\n",
            " [   8    5    4    0   15    9  907    0   10    0]\n",
            " [   1    7   17   18    0    0    0  969    0   16]\n",
            " [  17    1   32   17    2    3    8    0  888    6]\n",
            " [   7    3    1   18    5   10    0    8   18  939]]\n",
            "Best test acc: 95.16%\n",
            "\n"
          ]
        },
        {
          "name": "stderr",
          "output_type": "stream",
          "text": [
            "/usr/local/lib/python3.10/dist-packages/torch/utils/data/dataloader.py:558: UserWarning: This DataLoader will create 4 worker processes in total. Our suggested max number of worker in current system is 2, which is smaller than what this DataLoader is going to create. Please be aware that excessive worker creation might get DataLoader running slow or even freeze, lower the worker number to avoid potential slowness/freeze if necessary.\n",
            "  warnings.warn(_create_warning_msg(\n",
            "/usr/lib/python3.10/multiprocessing/popen_fork.py:66: RuntimeWarning: os.fork() was called. os.fork() is incompatible with multithreaded code, and JAX is multithreaded, so this will likely lead to a deadlock.\n",
            "  self.pid = os.fork()\n"
          ]
        },
        {
          "name": "stdout",
          "output_type": "stream",
          "text": [
            "Ep: 8/20\tIt: 1/468\tbatch_loss: 0.3510\tbatch_accuracy: 90.62%\n",
            "Ep: 8/20\tIt: 51/468\tbatch_loss: 0.3054\tbatch_accuracy: 92.97%\n",
            "Ep: 8/20\tIt: 101/468\tbatch_loss: 0.3980\tbatch_accuracy: 89.84%\n",
            "Ep: 8/20\tIt: 151/468\tbatch_loss: 0.1884\tbatch_accuracy: 94.53%\n",
            "Ep: 8/20\tIt: 201/468\tbatch_loss: 0.2832\tbatch_accuracy: 89.84%\n",
            "Ep: 8/20\tIt: 251/468\tbatch_loss: 0.2465\tbatch_accuracy: 92.19%\n",
            "Ep: 8/20\tIt: 301/468\tbatch_loss: 0.2498\tbatch_accuracy: 93.75%\n",
            "Ep: 8/20\tIt: 351/468\tbatch_loss: 0.2607\tbatch_accuracy: 90.62%\n",
            "Ep: 8/20\tIt: 401/468\tbatch_loss: 0.2411\tbatch_accuracy: 92.19%\n",
            "Ep: 8/20\tIt: 451/468\tbatch_loss: 0.2993\tbatch_accuracy: 93.75%\n",
            "Ep: 8/20\tIt: 468/468\tbatch_loss: 0.2444\tbatch_accuracy: 91.41%\n",
            "Test acc: 96.08%\tTest loss: 0.1316\n",
            "Train Confusion Matrix:\n",
            "[[ 968    0    2    0    1    0    6    1    2    0]\n",
            " [   1 1119    5    2    1    0    4    3    0    0]\n",
            " [   7    0 1013    2    2    0    2    3    2    1]\n",
            " [   2    1   18  962    0    7    0   10    9    1]\n",
            " [   0    0    0    0  950    0   11    0    2   19]\n",
            " [   5    1    2   16    0  849    9    2    5    3]\n",
            " [   4    4    1    0    4    4  941    0    0    0]\n",
            " [   0    7   14    3    0    0    0  990    4   10]\n",
            " [  14    0   12    1    5    6   19    2  911    4]\n",
            " [   4    2    1    6   52    6    0    9   24  905]]\n",
            "Best test acc: 96.08%\n",
            "\n"
          ]
        },
        {
          "name": "stderr",
          "output_type": "stream",
          "text": [
            "/usr/local/lib/python3.10/dist-packages/torch/utils/data/dataloader.py:558: UserWarning: This DataLoader will create 4 worker processes in total. Our suggested max number of worker in current system is 2, which is smaller than what this DataLoader is going to create. Please be aware that excessive worker creation might get DataLoader running slow or even freeze, lower the worker number to avoid potential slowness/freeze if necessary.\n",
            "  warnings.warn(_create_warning_msg(\n",
            "/usr/lib/python3.10/multiprocessing/popen_fork.py:66: RuntimeWarning: os.fork() was called. os.fork() is incompatible with multithreaded code, and JAX is multithreaded, so this will likely lead to a deadlock.\n",
            "  self.pid = os.fork()\n"
          ]
        },
        {
          "name": "stdout",
          "output_type": "stream",
          "text": [
            "Ep: 9/20\tIt: 1/468\tbatch_loss: 0.3153\tbatch_accuracy: 90.62%\n",
            "Ep: 9/20\tIt: 51/468\tbatch_loss: 0.2710\tbatch_accuracy: 90.62%\n",
            "Ep: 9/20\tIt: 101/468\tbatch_loss: 0.2839\tbatch_accuracy: 90.62%\n",
            "Ep: 9/20\tIt: 151/468\tbatch_loss: 0.3176\tbatch_accuracy: 89.06%\n",
            "Ep: 9/20\tIt: 201/468\tbatch_loss: 0.1504\tbatch_accuracy: 96.88%\n",
            "Ep: 9/20\tIt: 251/468\tbatch_loss: 0.1756\tbatch_accuracy: 96.09%\n",
            "Ep: 9/20\tIt: 301/468\tbatch_loss: 0.2636\tbatch_accuracy: 91.41%\n",
            "Ep: 9/20\tIt: 351/468\tbatch_loss: 0.2077\tbatch_accuracy: 95.31%\n",
            "Ep: 9/20\tIt: 401/468\tbatch_loss: 0.2609\tbatch_accuracy: 92.97%\n",
            "Ep: 9/20\tIt: 451/468\tbatch_loss: 0.1792\tbatch_accuracy: 95.31%\n",
            "Ep: 9/20\tIt: 468/468\tbatch_loss: 0.2062\tbatch_accuracy: 92.97%\n",
            "Test acc: 96.46%\tTest loss: 0.1185\n",
            "Train Confusion Matrix:\n",
            "[[ 966    0    2    0    1    0    5    1    2    3]\n",
            " [   0 1111    3    2    1    1    4    9    0    4]\n",
            " [   2    0 1004    4    2    0    3    6    6    5]\n",
            " [   0    1   10  968    0   12    0   15    2    2]\n",
            " [   1    0    0    0  926    0    8    0    1   46]\n",
            " [   2    1    1   14    0  859    2    3    4    6]\n",
            " [   3    4    0    0    4   14  931    0    2    0]\n",
            " [   0    1    3    0    2    0    0 1009    1   12]\n",
            " [  16    0    4    8    3   10    2    5  889   37]\n",
            " [   1    0    0    6    7    3    0    9    0  983]]\n",
            "Best test acc: 96.46%\n",
            "\n"
          ]
        },
        {
          "name": "stderr",
          "output_type": "stream",
          "text": [
            "/usr/local/lib/python3.10/dist-packages/torch/utils/data/dataloader.py:558: UserWarning: This DataLoader will create 4 worker processes in total. Our suggested max number of worker in current system is 2, which is smaller than what this DataLoader is going to create. Please be aware that excessive worker creation might get DataLoader running slow or even freeze, lower the worker number to avoid potential slowness/freeze if necessary.\n",
            "  warnings.warn(_create_warning_msg(\n",
            "/usr/lib/python3.10/multiprocessing/popen_fork.py:66: RuntimeWarning: os.fork() was called. os.fork() is incompatible with multithreaded code, and JAX is multithreaded, so this will likely lead to a deadlock.\n",
            "  self.pid = os.fork()\n"
          ]
        },
        {
          "name": "stdout",
          "output_type": "stream",
          "text": [
            "Ep: 10/20\tIt: 1/468\tbatch_loss: 0.2031\tbatch_accuracy: 95.31%\n",
            "Ep: 10/20\tIt: 51/468\tbatch_loss: 0.3122\tbatch_accuracy: 89.84%\n",
            "Ep: 10/20\tIt: 101/468\tbatch_loss: 0.1567\tbatch_accuracy: 95.31%\n",
            "Ep: 10/20\tIt: 151/468\tbatch_loss: 0.1419\tbatch_accuracy: 94.53%\n",
            "Ep: 10/20\tIt: 201/468\tbatch_loss: 0.1667\tbatch_accuracy: 92.97%\n",
            "Ep: 10/20\tIt: 251/468\tbatch_loss: 0.1151\tbatch_accuracy: 96.09%\n",
            "Ep: 10/20\tIt: 301/468\tbatch_loss: 0.2592\tbatch_accuracy: 89.84%\n",
            "Ep: 10/20\tIt: 351/468\tbatch_loss: 0.1729\tbatch_accuracy: 93.75%\n",
            "Ep: 10/20\tIt: 401/468\tbatch_loss: 0.1669\tbatch_accuracy: 96.88%\n",
            "Ep: 10/20\tIt: 451/468\tbatch_loss: 0.1778\tbatch_accuracy: 94.53%\n",
            "Ep: 10/20\tIt: 468/468\tbatch_loss: 0.1419\tbatch_accuracy: 96.88%\n",
            "Test acc: 97.10%\tTest loss: 0.0967\n",
            "Train Confusion Matrix:\n",
            "[[ 959    0    4    0    2    2   10    1    2    0]\n",
            " [   1 1113    4    0    1    0    6    2    8    0]\n",
            " [   1    0 1016    1    3    0    1    4    5    1]\n",
            " [   0    0    6  960    0   24    0   13    5    2]\n",
            " [   1    0    0    0  947    0    7    0    1   26]\n",
            " [   3    0    0    8    0  869    7    2    2    1]\n",
            " [   3    4    1    0    5    4  940    0    1    0]\n",
            " [   0    4    4    0    0    1    0 1008    1   10]\n",
            " [   9    0    8    1    2    5    6    3  930   10]\n",
            " [   3    0    0    4   12   12    0    7    3  968]]\n",
            "Best test acc: 97.10%\n",
            "\n"
          ]
        },
        {
          "name": "stderr",
          "output_type": "stream",
          "text": [
            "/usr/local/lib/python3.10/dist-packages/torch/utils/data/dataloader.py:558: UserWarning: This DataLoader will create 4 worker processes in total. Our suggested max number of worker in current system is 2, which is smaller than what this DataLoader is going to create. Please be aware that excessive worker creation might get DataLoader running slow or even freeze, lower the worker number to avoid potential slowness/freeze if necessary.\n",
            "  warnings.warn(_create_warning_msg(\n",
            "/usr/lib/python3.10/multiprocessing/popen_fork.py:66: RuntimeWarning: os.fork() was called. os.fork() is incompatible with multithreaded code, and JAX is multithreaded, so this will likely lead to a deadlock.\n",
            "  self.pid = os.fork()\n"
          ]
        },
        {
          "name": "stdout",
          "output_type": "stream",
          "text": [
            "Ep: 11/20\tIt: 1/468\tbatch_loss: 0.2230\tbatch_accuracy: 95.31%\n",
            "Ep: 11/20\tIt: 51/468\tbatch_loss: 0.1196\tbatch_accuracy: 94.53%\n",
            "Ep: 11/20\tIt: 101/468\tbatch_loss: 0.2497\tbatch_accuracy: 93.75%\n",
            "Ep: 11/20\tIt: 151/468\tbatch_loss: 0.1826\tbatch_accuracy: 96.09%\n",
            "Ep: 11/20\tIt: 201/468\tbatch_loss: 0.1140\tbatch_accuracy: 96.09%\n",
            "Ep: 11/20\tIt: 251/468\tbatch_loss: 0.2828\tbatch_accuracy: 92.97%\n",
            "Ep: 11/20\tIt: 301/468\tbatch_loss: 0.1635\tbatch_accuracy: 94.53%\n",
            "Ep: 11/20\tIt: 351/468\tbatch_loss: 0.1363\tbatch_accuracy: 95.31%\n",
            "Ep: 11/20\tIt: 401/468\tbatch_loss: 0.2037\tbatch_accuracy: 92.19%\n",
            "Ep: 11/20\tIt: 451/468\tbatch_loss: 0.1199\tbatch_accuracy: 95.31%\n",
            "Ep: 11/20\tIt: 468/468\tbatch_loss: 0.1451\tbatch_accuracy: 95.31%\n",
            "Test acc: 96.79%\tTest loss: 0.0983\n",
            "Train Confusion Matrix:\n",
            "[[ 957    0    1    0    2    0   18    1    1    0]\n",
            " [   0 1121    4    1    1    0    7    1    0    0]\n",
            " [   3    1 1012    1    2    0    4    3    6    0]\n",
            " [   0    3   10  980    0    6    0    7    3    1]\n",
            " [   0    0    0    0  956    0    8    0    5   13]\n",
            " [   4    2    1    8    0  862    9    3    3    0]\n",
            " [   1    2    0    0    3    3  949    0    0    0]\n",
            " [   0   12   13    1    2    0    0  984    2   14]\n",
            " [   6    1   12    3    1    6   16    3  925    1]\n",
            " [   2    3    0    7   21    7    0    6   30  933]]\n",
            "Best test acc: 97.10%\n",
            "\n"
          ]
        },
        {
          "name": "stderr",
          "output_type": "stream",
          "text": [
            "/usr/local/lib/python3.10/dist-packages/torch/utils/data/dataloader.py:558: UserWarning: This DataLoader will create 4 worker processes in total. Our suggested max number of worker in current system is 2, which is smaller than what this DataLoader is going to create. Please be aware that excessive worker creation might get DataLoader running slow or even freeze, lower the worker number to avoid potential slowness/freeze if necessary.\n",
            "  warnings.warn(_create_warning_msg(\n",
            "/usr/lib/python3.10/multiprocessing/popen_fork.py:66: RuntimeWarning: os.fork() was called. os.fork() is incompatible with multithreaded code, and JAX is multithreaded, so this will likely lead to a deadlock.\n",
            "  self.pid = os.fork()\n"
          ]
        },
        {
          "name": "stdout",
          "output_type": "stream",
          "text": [
            "Ep: 12/20\tIt: 1/468\tbatch_loss: 0.1747\tbatch_accuracy: 95.31%\n",
            "Ep: 12/20\tIt: 51/468\tbatch_loss: 0.1577\tbatch_accuracy: 94.53%\n",
            "Ep: 12/20\tIt: 101/468\tbatch_loss: 0.2124\tbatch_accuracy: 92.19%\n",
            "Ep: 12/20\tIt: 151/468\tbatch_loss: 0.2265\tbatch_accuracy: 92.19%\n",
            "Ep: 12/20\tIt: 201/468\tbatch_loss: 0.1570\tbatch_accuracy: 96.88%\n",
            "Ep: 12/20\tIt: 251/468\tbatch_loss: 0.2049\tbatch_accuracy: 92.97%\n",
            "Ep: 12/20\tIt: 301/468\tbatch_loss: 0.1723\tbatch_accuracy: 93.75%\n",
            "Ep: 12/20\tIt: 351/468\tbatch_loss: 0.1461\tbatch_accuracy: 96.88%\n",
            "Ep: 12/20\tIt: 401/468\tbatch_loss: 0.1226\tbatch_accuracy: 94.53%\n",
            "Ep: 12/20\tIt: 451/468\tbatch_loss: 0.0754\tbatch_accuracy: 98.44%\n"
          ]
        },
        {
          "name": "stderr",
          "output_type": "stream",
          "text": [
            "/usr/lib/python3.10/multiprocessing/popen_fork.py:66: RuntimeWarning: os.fork() was called. os.fork() is incompatible with multithreaded code, and JAX is multithreaded, so this will likely lead to a deadlock.\n",
            "  self.pid = os.fork()\n"
          ]
        },
        {
          "name": "stdout",
          "output_type": "stream",
          "text": [
            "Ep: 12/20\tIt: 468/468\tbatch_loss: 0.1749\tbatch_accuracy: 93.75%\n",
            "Test acc: 97.26%\tTest loss: 0.0905\n",
            "Train Confusion Matrix:\n",
            "[[ 974    0    1    0    0    0    2    1    2    0]\n",
            " [   1 1113    4    3    0    1    4    5    4    0]\n",
            " [   3    0 1011    5    0    0    0    8    5    0]\n",
            " [   0    0    4  978    0   14    0    8    4    2]\n",
            " [   4    0    0    0  914    0    7    0    2   55]\n",
            " [   3    0    1    6    0  868    1    3    9    1]\n",
            " [  11    2    0    0    0   11  932    0    2    0]\n",
            " [   1    1    2    1    1    0    0 1016    1    5]\n",
            " [   4    0    4    2    2    5    0    3  949    5]\n",
            " [   5    0    0    8    7    4    0    9    5  971]]\n",
            "Best test acc: 97.26%\n",
            "\n"
          ]
        },
        {
          "name": "stderr",
          "output_type": "stream",
          "text": [
            "/usr/local/lib/python3.10/dist-packages/torch/utils/data/dataloader.py:558: UserWarning: This DataLoader will create 4 worker processes in total. Our suggested max number of worker in current system is 2, which is smaller than what this DataLoader is going to create. Please be aware that excessive worker creation might get DataLoader running slow or even freeze, lower the worker number to avoid potential slowness/freeze if necessary.\n",
            "  warnings.warn(_create_warning_msg(\n",
            "/usr/lib/python3.10/multiprocessing/popen_fork.py:66: RuntimeWarning: os.fork() was called. os.fork() is incompatible with multithreaded code, and JAX is multithreaded, so this will likely lead to a deadlock.\n",
            "  self.pid = os.fork()\n"
          ]
        },
        {
          "name": "stdout",
          "output_type": "stream",
          "text": [
            "Ep: 13/20\tIt: 1/468\tbatch_loss: 0.1312\tbatch_accuracy: 95.31%\n",
            "Ep: 13/20\tIt: 51/468\tbatch_loss: 0.0821\tbatch_accuracy: 97.66%\n",
            "Ep: 13/20\tIt: 101/468\tbatch_loss: 0.0874\tbatch_accuracy: 97.66%\n",
            "Ep: 13/20\tIt: 151/468\tbatch_loss: 0.1244\tbatch_accuracy: 96.09%\n",
            "Ep: 13/20\tIt: 201/468\tbatch_loss: 0.1486\tbatch_accuracy: 94.53%\n",
            "Ep: 13/20\tIt: 251/468\tbatch_loss: 0.1437\tbatch_accuracy: 95.31%\n",
            "Ep: 13/20\tIt: 301/468\tbatch_loss: 0.1928\tbatch_accuracy: 94.53%\n",
            "Ep: 13/20\tIt: 351/468\tbatch_loss: 0.1253\tbatch_accuracy: 96.09%\n",
            "Ep: 13/20\tIt: 401/468\tbatch_loss: 0.1348\tbatch_accuracy: 95.31%\n",
            "Ep: 13/20\tIt: 451/468\tbatch_loss: 0.2189\tbatch_accuracy: 92.97%\n"
          ]
        },
        {
          "name": "stderr",
          "output_type": "stream",
          "text": [
            "/usr/lib/python3.10/multiprocessing/popen_fork.py:66: RuntimeWarning: os.fork() was called. os.fork() is incompatible with multithreaded code, and JAX is multithreaded, so this will likely lead to a deadlock.\n",
            "  self.pid = os.fork()\n"
          ]
        },
        {
          "name": "stdout",
          "output_type": "stream",
          "text": [
            "Ep: 13/20\tIt: 468/468\tbatch_loss: 0.0866\tbatch_accuracy: 97.66%\n",
            "Test acc: 97.40%\tTest loss: 0.0775\n",
            "Train Confusion Matrix:\n",
            "[[ 967    1    2    0    1    1    7    1    0    0]\n",
            " [   0 1124    4    0    1    0    2    3    1    0]\n",
            " [   1    0 1024    1    1    0    1    1    3    0]\n",
            " [   0    1    5  997    0    2    0    3    2    0]\n",
            " [   1    1    0    0  961    0   12    0    0    7]\n",
            " [   0    4    1   16    0  857    5    2    6    1]\n",
            " [   4    4    0    0    1    3  945    0    1    0]\n",
            " [   1    5   35    5    2    0    0  970    3    7]\n",
            " [   2    0    9    2    3    1    5    0  951    1]\n",
            " [   3    3    0    5   36    3    1    6    8  944]]\n",
            "Best test acc: 97.40%\n",
            "\n"
          ]
        },
        {
          "name": "stderr",
          "output_type": "stream",
          "text": [
            "/usr/local/lib/python3.10/dist-packages/torch/utils/data/dataloader.py:558: UserWarning: This DataLoader will create 4 worker processes in total. Our suggested max number of worker in current system is 2, which is smaller than what this DataLoader is going to create. Please be aware that excessive worker creation might get DataLoader running slow or even freeze, lower the worker number to avoid potential slowness/freeze if necessary.\n",
            "  warnings.warn(_create_warning_msg(\n",
            "/usr/lib/python3.10/multiprocessing/popen_fork.py:66: RuntimeWarning: os.fork() was called. os.fork() is incompatible with multithreaded code, and JAX is multithreaded, so this will likely lead to a deadlock.\n",
            "  self.pid = os.fork()\n"
          ]
        },
        {
          "name": "stdout",
          "output_type": "stream",
          "text": [
            "Ep: 14/20\tIt: 1/468\tbatch_loss: 0.1960\tbatch_accuracy: 92.97%\n",
            "Ep: 14/20\tIt: 51/468\tbatch_loss: 0.1339\tbatch_accuracy: 96.09%\n",
            "Ep: 14/20\tIt: 101/468\tbatch_loss: 0.1424\tbatch_accuracy: 96.09%\n",
            "Ep: 14/20\tIt: 151/468\tbatch_loss: 0.0433\tbatch_accuracy: 97.66%\n",
            "Ep: 14/20\tIt: 201/468\tbatch_loss: 0.1661\tbatch_accuracy: 95.31%\n",
            "Ep: 14/20\tIt: 251/468\tbatch_loss: 0.1142\tbatch_accuracy: 96.88%\n",
            "Ep: 14/20\tIt: 301/468\tbatch_loss: 0.0911\tbatch_accuracy: 98.44%\n",
            "Ep: 14/20\tIt: 351/468\tbatch_loss: 0.0828\tbatch_accuracy: 98.44%\n",
            "Ep: 14/20\tIt: 401/468\tbatch_loss: 0.1498\tbatch_accuracy: 95.31%\n",
            "Ep: 14/20\tIt: 451/468\tbatch_loss: 0.0811\tbatch_accuracy: 98.44%\n"
          ]
        },
        {
          "name": "stderr",
          "output_type": "stream",
          "text": [
            "/usr/lib/python3.10/multiprocessing/popen_fork.py:66: RuntimeWarning: os.fork() was called. os.fork() is incompatible with multithreaded code, and JAX is multithreaded, so this will likely lead to a deadlock.\n",
            "  self.pid = os.fork()\n"
          ]
        },
        {
          "name": "stdout",
          "output_type": "stream",
          "text": [
            "Ep: 14/20\tIt: 468/468\tbatch_loss: 0.1199\tbatch_accuracy: 95.31%\n",
            "Test acc: 97.74%\tTest loss: 0.0688\n",
            "Train Confusion Matrix:\n",
            "[[ 975    1    1    0    1    0    1    1    0    0]\n",
            " [   1 1126    2    1    1    0    2    2    0    0]\n",
            " [   8    0 1010    4    3    0    1    2    4    0]\n",
            " [   0    0    4 1003    0    1    0    1    1    0]\n",
            " [   1    1    0    0  944    0    2    1    2   31]\n",
            " [   2    1    1   22    0  860    1    2    2    1]\n",
            " [   6    4    0    0    7    7  933    0    1    0]\n",
            " [   0    6   13    8    0    0    0  994    2    5]\n",
            " [  11    0    3    2    0    3    1    1  948    5]\n",
            " [   2    1    0    8    7    3    0    7    0  981]]\n",
            "Best test acc: 97.74%\n",
            "\n"
          ]
        },
        {
          "name": "stderr",
          "output_type": "stream",
          "text": [
            "/usr/local/lib/python3.10/dist-packages/torch/utils/data/dataloader.py:558: UserWarning: This DataLoader will create 4 worker processes in total. Our suggested max number of worker in current system is 2, which is smaller than what this DataLoader is going to create. Please be aware that excessive worker creation might get DataLoader running slow or even freeze, lower the worker number to avoid potential slowness/freeze if necessary.\n",
            "  warnings.warn(_create_warning_msg(\n",
            "/usr/lib/python3.10/multiprocessing/popen_fork.py:66: RuntimeWarning: os.fork() was called. os.fork() is incompatible with multithreaded code, and JAX is multithreaded, so this will likely lead to a deadlock.\n",
            "  self.pid = os.fork()\n"
          ]
        },
        {
          "name": "stdout",
          "output_type": "stream",
          "text": [
            "Ep: 15/20\tIt: 1/468\tbatch_loss: 0.1221\tbatch_accuracy: 96.88%\n",
            "Ep: 15/20\tIt: 51/468\tbatch_loss: 0.0623\tbatch_accuracy: 98.44%\n",
            "Ep: 15/20\tIt: 101/468\tbatch_loss: 0.1383\tbatch_accuracy: 95.31%\n",
            "Ep: 15/20\tIt: 151/468\tbatch_loss: 0.1188\tbatch_accuracy: 96.09%\n",
            "Ep: 15/20\tIt: 201/468\tbatch_loss: 0.0536\tbatch_accuracy: 98.44%\n",
            "Ep: 15/20\tIt: 251/468\tbatch_loss: 0.1631\tbatch_accuracy: 96.09%\n",
            "Ep: 15/20\tIt: 301/468\tbatch_loss: 0.0971\tbatch_accuracy: 96.88%\n",
            "Ep: 15/20\tIt: 351/468\tbatch_loss: 0.1189\tbatch_accuracy: 96.09%\n",
            "Ep: 15/20\tIt: 401/468\tbatch_loss: 0.0563\tbatch_accuracy: 99.22%\n",
            "Ep: 15/20\tIt: 451/468\tbatch_loss: 0.0767\tbatch_accuracy: 97.66%\n"
          ]
        },
        {
          "name": "stderr",
          "output_type": "stream",
          "text": [
            "/usr/lib/python3.10/multiprocessing/popen_fork.py:66: RuntimeWarning: os.fork() was called. os.fork() is incompatible with multithreaded code, and JAX is multithreaded, so this will likely lead to a deadlock.\n",
            "  self.pid = os.fork()\n"
          ]
        },
        {
          "name": "stdout",
          "output_type": "stream",
          "text": [
            "Ep: 15/20\tIt: 468/468\tbatch_loss: 0.1143\tbatch_accuracy: 96.09%\n",
            "Test acc: 98.45%\tTest loss: 0.0490\n",
            "Train Confusion Matrix:\n",
            "[[ 973    0    1    0    1    1    1    1    2    0]\n",
            " [   0 1124    3    5    1    0    2    0    0    0]\n",
            " [   0    1 1022    1    1    0    0    4    3    0]\n",
            " [   0    0    0  996    0    6    0    4    2    2]\n",
            " [   1    0    0    0  957    0    5    1    1   17]\n",
            " [   2    0    1    8    0  875    1    2    1    2]\n",
            " [   4    1    0    0    1    7  943    0    2    0]\n",
            " [   1    2    7    2    0    1    0 1007    2    6]\n",
            " [   2    0    0    3    1    2    1    2  960    3]\n",
            " [   1    0    0    3    7    2    0    4    4  988]]\n",
            "Best test acc: 98.45%\n",
            "\n"
          ]
        },
        {
          "name": "stderr",
          "output_type": "stream",
          "text": [
            "/usr/local/lib/python3.10/dist-packages/torch/utils/data/dataloader.py:558: UserWarning: This DataLoader will create 4 worker processes in total. Our suggested max number of worker in current system is 2, which is smaller than what this DataLoader is going to create. Please be aware that excessive worker creation might get DataLoader running slow or even freeze, lower the worker number to avoid potential slowness/freeze if necessary.\n",
            "  warnings.warn(_create_warning_msg(\n",
            "/usr/lib/python3.10/multiprocessing/popen_fork.py:66: RuntimeWarning: os.fork() was called. os.fork() is incompatible with multithreaded code, and JAX is multithreaded, so this will likely lead to a deadlock.\n",
            "  self.pid = os.fork()\n"
          ]
        },
        {
          "name": "stdout",
          "output_type": "stream",
          "text": [
            "Ep: 16/20\tIt: 1/468\tbatch_loss: 0.0860\tbatch_accuracy: 98.44%\n",
            "Ep: 16/20\tIt: 51/468\tbatch_loss: 0.0865\tbatch_accuracy: 97.66%\n",
            "Ep: 16/20\tIt: 101/468\tbatch_loss: 0.0728\tbatch_accuracy: 99.22%\n",
            "Ep: 16/20\tIt: 151/468\tbatch_loss: 0.0727\tbatch_accuracy: 97.66%\n",
            "Ep: 16/20\tIt: 201/468\tbatch_loss: 0.0676\tbatch_accuracy: 98.44%\n",
            "Ep: 16/20\tIt: 251/468\tbatch_loss: 0.0997\tbatch_accuracy: 96.88%\n",
            "Ep: 16/20\tIt: 301/468\tbatch_loss: 0.0820\tbatch_accuracy: 97.66%\n",
            "Ep: 16/20\tIt: 351/468\tbatch_loss: 0.0908\tbatch_accuracy: 96.09%\n",
            "Ep: 16/20\tIt: 401/468\tbatch_loss: 0.1637\tbatch_accuracy: 96.09%\n",
            "Ep: 16/20\tIt: 451/468\tbatch_loss: 0.0853\tbatch_accuracy: 96.09%\n",
            "Ep: 16/20\tIt: 468/468\tbatch_loss: 0.0967\tbatch_accuracy: 96.88%\n",
            "Test acc: 98.34%\tTest loss: 0.0508\n",
            "Train Confusion Matrix:\n",
            "[[ 975    0    1    0    1    0    2    1    0    0]\n",
            " [   2 1121    3    4    0    0    4    1    0    0]\n",
            " [   6    1 1013    2    0    0    2    2    4    2]\n",
            " [   0    0    4  998    0    4    0    2    2    0]\n",
            " [   1    0    0    0  960    0    7    0    1   13]\n",
            " [   3    1    0   11    0  874    2    1    0    0]\n",
            " [   1    1    0    0    2    3  950    0    1    0]\n",
            " [   0    2    6    3    2    1    0 1002    2   10]\n",
            " [   3    0    1    2    1    4    4    1  953    5]\n",
            " [   1    1    0    1    9    5    0    3    1  988]]\n",
            "Best test acc: 98.45%\n",
            "\n"
          ]
        },
        {
          "name": "stderr",
          "output_type": "stream",
          "text": [
            "/usr/local/lib/python3.10/dist-packages/torch/utils/data/dataloader.py:558: UserWarning: This DataLoader will create 4 worker processes in total. Our suggested max number of worker in current system is 2, which is smaller than what this DataLoader is going to create. Please be aware that excessive worker creation might get DataLoader running slow or even freeze, lower the worker number to avoid potential slowness/freeze if necessary.\n",
            "  warnings.warn(_create_warning_msg(\n",
            "/usr/lib/python3.10/multiprocessing/popen_fork.py:66: RuntimeWarning: os.fork() was called. os.fork() is incompatible with multithreaded code, and JAX is multithreaded, so this will likely lead to a deadlock.\n",
            "  self.pid = os.fork()\n"
          ]
        },
        {
          "name": "stdout",
          "output_type": "stream",
          "text": [
            "Ep: 17/20\tIt: 1/468\tbatch_loss: 0.0665\tbatch_accuracy: 96.88%\n",
            "Ep: 17/20\tIt: 51/468\tbatch_loss: 0.0799\tbatch_accuracy: 97.66%\n",
            "Ep: 17/20\tIt: 101/468\tbatch_loss: 0.0449\tbatch_accuracy: 99.22%\n",
            "Ep: 17/20\tIt: 151/468\tbatch_loss: 0.0360\tbatch_accuracy: 98.44%\n",
            "Ep: 17/20\tIt: 201/468\tbatch_loss: 0.0573\tbatch_accuracy: 99.22%\n",
            "Ep: 17/20\tIt: 251/468\tbatch_loss: 0.0908\tbatch_accuracy: 98.44%\n",
            "Ep: 17/20\tIt: 301/468\tbatch_loss: 0.0745\tbatch_accuracy: 97.66%\n",
            "Ep: 17/20\tIt: 351/468\tbatch_loss: 0.1738\tbatch_accuracy: 93.75%\n",
            "Ep: 17/20\tIt: 401/468\tbatch_loss: 0.0245\tbatch_accuracy: 100.00%\n",
            "Ep: 17/20\tIt: 451/468\tbatch_loss: 0.0773\tbatch_accuracy: 97.66%\n",
            "Ep: 17/20\tIt: 468/468\tbatch_loss: 0.0443\tbatch_accuracy: 97.66%\n",
            "Test acc: 98.45%\tTest loss: 0.0474\n",
            "Train Confusion Matrix:\n",
            "[[ 977    0    1    0    0    1    0    1    0    0]\n",
            " [   0 1127    2    3    0    0    0    3    0    0]\n",
            " [   2    0 1022    2    0    0    0    5    1    0]\n",
            " [   0    0    5  983    0   13    0    7    2    0]\n",
            " [   1    1    2    0  963    0    3    1    2    9]\n",
            " [   2    1    1    4    0  880    1    2    0    1]\n",
            " [   7    2    0    0    3    4  938    0    4    0]\n",
            " [   0    0    4    0    0    1    0 1020    2    1]\n",
            " [   5    0    2    0    0    2    0    1  961    3]\n",
            " [   6    0    0    1    9    7    0    6    6  974]]\n",
            "Best test acc: 98.45%\n",
            "\n"
          ]
        },
        {
          "name": "stderr",
          "output_type": "stream",
          "text": [
            "/usr/local/lib/python3.10/dist-packages/torch/utils/data/dataloader.py:558: UserWarning: This DataLoader will create 4 worker processes in total. Our suggested max number of worker in current system is 2, which is smaller than what this DataLoader is going to create. Please be aware that excessive worker creation might get DataLoader running slow or even freeze, lower the worker number to avoid potential slowness/freeze if necessary.\n",
            "  warnings.warn(_create_warning_msg(\n",
            "/usr/lib/python3.10/multiprocessing/popen_fork.py:66: RuntimeWarning: os.fork() was called. os.fork() is incompatible with multithreaded code, and JAX is multithreaded, so this will likely lead to a deadlock.\n",
            "  self.pid = os.fork()\n"
          ]
        },
        {
          "name": "stdout",
          "output_type": "stream",
          "text": [
            "Ep: 18/20\tIt: 1/468\tbatch_loss: 0.0679\tbatch_accuracy: 97.66%\n",
            "Ep: 18/20\tIt: 51/468\tbatch_loss: 0.0455\tbatch_accuracy: 99.22%\n",
            "Ep: 18/20\tIt: 101/468\tbatch_loss: 0.0523\tbatch_accuracy: 97.66%\n",
            "Ep: 18/20\tIt: 151/468\tbatch_loss: 0.0632\tbatch_accuracy: 97.66%\n",
            "Ep: 18/20\tIt: 201/468\tbatch_loss: 0.0485\tbatch_accuracy: 98.44%\n",
            "Ep: 18/20\tIt: 251/468\tbatch_loss: 0.0540\tbatch_accuracy: 98.44%\n",
            "Ep: 18/20\tIt: 301/468\tbatch_loss: 0.0583\tbatch_accuracy: 96.88%\n",
            "Ep: 18/20\tIt: 351/468\tbatch_loss: 0.1741\tbatch_accuracy: 95.31%\n",
            "Ep: 18/20\tIt: 401/468\tbatch_loss: 0.0565\tbatch_accuracy: 97.66%\n",
            "Ep: 18/20\tIt: 451/468\tbatch_loss: 0.0789\tbatch_accuracy: 96.09%\n",
            "Ep: 18/20\tIt: 468/468\tbatch_loss: 0.1127\tbatch_accuracy: 97.66%\n",
            "Test acc: 98.65%\tTest loss: 0.0400\n",
            "Train Confusion Matrix:\n",
            "[[ 972    0    2    1    0    1    3    1    0    0]\n",
            " [   2 1125    2    1    1    0    1    3    0    0]\n",
            " [   3    1 1023    1    0    0    0    2    2    0]\n",
            " [   0    1    3  997    0    4    0    3    2    0]\n",
            " [   1    0    2    0  964    0    3    0    4    8]\n",
            " [   0    1    1    5    0  881    2    1    0    1]\n",
            " [   4    2    0    0    2    3  946    0    1    0]\n",
            " [   0    0    8    1    2    0    0 1011    2    4]\n",
            " [   4    0    3    0    0    3    3    0  958    3]\n",
            " [   1    0    0    0   11    3    0    3    3  988]]\n",
            "Best test acc: 98.65%\n",
            "\n"
          ]
        },
        {
          "name": "stderr",
          "output_type": "stream",
          "text": [
            "/usr/local/lib/python3.10/dist-packages/torch/utils/data/dataloader.py:558: UserWarning: This DataLoader will create 4 worker processes in total. Our suggested max number of worker in current system is 2, which is smaller than what this DataLoader is going to create. Please be aware that excessive worker creation might get DataLoader running slow or even freeze, lower the worker number to avoid potential slowness/freeze if necessary.\n",
            "  warnings.warn(_create_warning_msg(\n",
            "/usr/lib/python3.10/multiprocessing/popen_fork.py:66: RuntimeWarning: os.fork() was called. os.fork() is incompatible with multithreaded code, and JAX is multithreaded, so this will likely lead to a deadlock.\n",
            "  self.pid = os.fork()\n"
          ]
        },
        {
          "name": "stdout",
          "output_type": "stream",
          "text": [
            "Ep: 19/20\tIt: 1/468\tbatch_loss: 0.0606\tbatch_accuracy: 99.22%\n",
            "Ep: 19/20\tIt: 51/468\tbatch_loss: 0.0695\tbatch_accuracy: 97.66%\n",
            "Ep: 19/20\tIt: 101/468\tbatch_loss: 0.0897\tbatch_accuracy: 98.44%\n",
            "Ep: 19/20\tIt: 151/468\tbatch_loss: 0.0910\tbatch_accuracy: 95.31%\n",
            "Ep: 19/20\tIt: 201/468\tbatch_loss: 0.0116\tbatch_accuracy: 100.00%\n",
            "Ep: 19/20\tIt: 251/468\tbatch_loss: 0.0639\tbatch_accuracy: 97.66%\n",
            "Ep: 19/20\tIt: 301/468\tbatch_loss: 0.0686\tbatch_accuracy: 97.66%\n",
            "Ep: 19/20\tIt: 351/468\tbatch_loss: 0.0191\tbatch_accuracy: 99.22%\n",
            "Ep: 19/20\tIt: 401/468\tbatch_loss: 0.0952\tbatch_accuracy: 96.09%\n",
            "Ep: 19/20\tIt: 451/468\tbatch_loss: 0.0576\tbatch_accuracy: 98.44%\n"
          ]
        },
        {
          "name": "stderr",
          "output_type": "stream",
          "text": [
            "/usr/lib/python3.10/multiprocessing/popen_fork.py:66: RuntimeWarning: os.fork() was called. os.fork() is incompatible with multithreaded code, and JAX is multithreaded, so this will likely lead to a deadlock.\n",
            "  self.pid = os.fork()\n"
          ]
        },
        {
          "name": "stdout",
          "output_type": "stream",
          "text": [
            "Ep: 19/20\tIt: 468/468\tbatch_loss: 0.0729\tbatch_accuracy: 98.44%\n",
            "Test acc: 98.85%\tTest loss: 0.0365\n",
            "Train Confusion Matrix:\n",
            "[[ 976    0    1    0    1    0    1    1    0    0]\n",
            " [   0 1127    2    1    1    0    1    3    0    0]\n",
            " [   2    0 1024    1    0    0    0    5    0    0]\n",
            " [   0    0    2 1000    0    2    0    4    2    0]\n",
            " [   1    0    0    0  964    0    4    0    2   11]\n",
            " [   3    0    0    8    0  876    1    2    0    2]\n",
            " [   4    2    0    0    1    2  948    0    1    0]\n",
            " [   0    1    3    1    0    0    0 1016    2    5]\n",
            " [   5    0    1    0    0    3    1    1  960    3]\n",
            " [   1    0    0    0    6    2    0    4    2  994]]\n",
            "Best test acc: 98.85%\n",
            "\n"
          ]
        },
        {
          "name": "stderr",
          "output_type": "stream",
          "text": [
            "/usr/local/lib/python3.10/dist-packages/torch/utils/data/dataloader.py:558: UserWarning: This DataLoader will create 4 worker processes in total. Our suggested max number of worker in current system is 2, which is smaller than what this DataLoader is going to create. Please be aware that excessive worker creation might get DataLoader running slow or even freeze, lower the worker number to avoid potential slowness/freeze if necessary.\n",
            "  warnings.warn(_create_warning_msg(\n",
            "/usr/lib/python3.10/multiprocessing/popen_fork.py:66: RuntimeWarning: os.fork() was called. os.fork() is incompatible with multithreaded code, and JAX is multithreaded, so this will likely lead to a deadlock.\n",
            "  self.pid = os.fork()\n"
          ]
        },
        {
          "name": "stdout",
          "output_type": "stream",
          "text": [
            "Ep: 20/20\tIt: 1/468\tbatch_loss: 0.0806\tbatch_accuracy: 96.09%\n",
            "Ep: 20/20\tIt: 51/468\tbatch_loss: 0.0251\tbatch_accuracy: 99.22%\n",
            "Ep: 20/20\tIt: 101/468\tbatch_loss: 0.0690\tbatch_accuracy: 97.66%\n",
            "Ep: 20/20\tIt: 151/468\tbatch_loss: 0.0219\tbatch_accuracy: 99.22%\n",
            "Ep: 20/20\tIt: 201/468\tbatch_loss: 0.0498\tbatch_accuracy: 97.66%\n",
            "Ep: 20/20\tIt: 251/468\tbatch_loss: 0.0507\tbatch_accuracy: 99.22%\n",
            "Ep: 20/20\tIt: 301/468\tbatch_loss: 0.0708\tbatch_accuracy: 97.66%\n",
            "Ep: 20/20\tIt: 351/468\tbatch_loss: 0.0407\tbatch_accuracy: 99.22%\n",
            "Ep: 20/20\tIt: 401/468\tbatch_loss: 0.0249\tbatch_accuracy: 98.44%\n",
            "Ep: 20/20\tIt: 451/468\tbatch_loss: 0.0293\tbatch_accuracy: 99.22%\n",
            "Ep: 20/20\tIt: 468/468\tbatch_loss: 0.0481\tbatch_accuracy: 98.44%\n",
            "Test acc: 98.89%\tTest loss: 0.0326\n",
            "Train Confusion Matrix:\n",
            "[[ 976    0    1    0    1    0    1    1    0    0]\n",
            " [   0 1127    1    3    0    0    1    3    0    0]\n",
            " [   1    0 1024    1    0    0    0    4    2    0]\n",
            " [   0    1    2 1000    0    3    0    2    2    0]\n",
            " [   1    0    0    0  965    0    4    0    3    9]\n",
            " [   0    0    0    6    0  880    1    2    1    2]\n",
            " [   4    2    0    0    1    4  946    0    1    0]\n",
            " [   0    1    5    2    1    1    0 1014    1    3]\n",
            " [   3    0    1    0    0    2    1    0  964    3]\n",
            " [   1    0    0    1    7    3    0    1    3  993]]\n",
            "Best test acc: 98.89%\n",
            "\n"
          ]
        },
        {
          "name": "stderr",
          "output_type": "stream",
          "text": [
            "/usr/local/lib/python3.10/dist-packages/torch/utils/data/dataloader.py:558: UserWarning: This DataLoader will create 4 worker processes in total. Our suggested max number of worker in current system is 2, which is smaller than what this DataLoader is going to create. Please be aware that excessive worker creation might get DataLoader running slow or even freeze, lower the worker number to avoid potential slowness/freeze if necessary.\n",
            "  warnings.warn(_create_warning_msg(\n",
            "/usr/lib/python3.10/multiprocessing/popen_fork.py:66: RuntimeWarning: os.fork() was called. os.fork() is incompatible with multithreaded code, and JAX is multithreaded, so this will likely lead to a deadlock.\n",
            "  self.pid = os.fork()\n"
          ]
        },
        {
          "name": "stdout",
          "output_type": "stream",
          "text": [
            "Train acc: 98.69%\tTrain loss: 0.0435\n",
            "Train Confusion Matrix:\n",
            "[[5892    0    4    0    1    2    9    0    5    3]\n",
            " [   0 6678   21    7    5    1    2   13    1    2]\n",
            " [   4   11 5881    8    3    0    3   17   23    3]\n",
            " [   3    4   25 6017    0   21    1   23   18   10]\n",
            " [   0    6    7    0 5742    1   10    1    6   52]\n",
            " [   7    3    2   24    1 5316   34    2   16    5]\n",
            " [   7    4    1    0    7    6 5878    0    7    1]\n",
            " [   1   15   24    7   16    1    0 6150    4   38]\n",
            " [   5    7   13    3    6   19   18    5 5746   17]\n",
            " [   5    3    2    9   46   11    2   26   19 5819]]\n"
          ]
        },
        {
          "name": "stderr",
          "output_type": "stream",
          "text": [
            "/usr/local/lib/python3.10/dist-packages/torch/utils/data/dataloader.py:558: UserWarning: This DataLoader will create 4 worker processes in total. Our suggested max number of worker in current system is 2, which is smaller than what this DataLoader is going to create. Please be aware that excessive worker creation might get DataLoader running slow or even freeze, lower the worker number to avoid potential slowness/freeze if necessary.\n",
            "  warnings.warn(_create_warning_msg(\n",
            "/usr/lib/python3.10/multiprocessing/popen_fork.py:66: RuntimeWarning: os.fork() was called. os.fork() is incompatible with multithreaded code, and JAX is multithreaded, so this will likely lead to a deadlock.\n",
            "  self.pid = os.fork()\n",
            "/usr/lib/python3.10/multiprocessing/popen_fork.py:66: RuntimeWarning: os.fork() was called. os.fork() is incompatible with multithreaded code, and JAX is multithreaded, so this will likely lead to a deadlock.\n",
            "  self.pid = os.fork()\n"
          ]
        },
        {
          "name": "stdout",
          "output_type": "stream",
          "text": [
            "Test acc: 98.89%\tTest loss: 0.0326\n",
            "Train Confusion Matrix:\n",
            "[[ 976    0    1    0    1    0    1    1    0    0]\n",
            " [   0 1127    1    3    0    0    1    3    0    0]\n",
            " [   1    0 1024    1    0    0    0    4    2    0]\n",
            " [   0    1    2 1000    0    3    0    2    2    0]\n",
            " [   1    0    0    0  965    0    4    0    3    9]\n",
            " [   0    0    0    6    0  880    1    2    1    2]\n",
            " [   4    2    0    0    1    4  946    0    1    0]\n",
            " [   0    1    5    2    1    1    0 1014    1    3]\n",
            " [   3    0    1    0    0    2    1    0  964    3]\n",
            " [   1    0    0    1    7    3    0    1    3  993]]\n",
            "Ended at 2024-05-11 06:35:41\n",
            "Duration: 0:12:12.720524\n"
          ]
        }
      ],
      "source": [
        "\n",
        "class AllArguments:\n",
        "    def __init__(self):\n",
        "        # Training Arguments\n",
        "        self.epochs = 20\n",
        "        self.warmup_epochs = 10\n",
        "        self.batch_size = 128\n",
        "        self.n_classes = 10\n",
        "        self.n_workers = 4\n",
        "        self.lr = 5e-4\n",
        "        self.output_path = './outputs'\n",
        "\n",
        "        # Data arguments\n",
        "        self.dataset = 'mnist'\n",
        "        self.image_size = 28\n",
        "        self.patch_size = 4\n",
        "        self.n_channels = 1\n",
        "        self.data_path = './data/'\n",
        "\n",
        "        # ViT Arguments\n",
        "        self.embed_dim = 64\n",
        "        self.n_attention_heads = 4\n",
        "        self.forward_mul = 2\n",
        "        self.n_layers = 6\n",
        "        self.dropout = 0.1\n",
        "        self.model_path = './model'\n",
        "        self.load_model = False\n",
        "\n",
        "        #\n",
        "        self.model_path = os.path.join(self.model_path, self.dataset)\n",
        "        self.output_path = os.path.join(self.output_path, self.dataset)\n",
        "        self.n_patches = (self.image_size // self.patch_size) ** 2\n",
        "        self.is_cuda = torch.cuda.is_available() # Check GPU availability\n",
        "\n",
        "args = AllArguments()\n",
        "\n",
        "start_time = datetime.datetime.now()\n",
        "print(\"Started at \" + str(start_time.strftime('%Y-%m-%d %H:%M:%S')))\n",
        "\n",
        "\n",
        "main(args)\n",
        "\n",
        "end_time = datetime.datetime.now()\n",
        "duration = end_time - start_time\n",
        "print(\"Ended at \" + str(end_time.strftime('%Y-%m-%d %H:%M:%S')))\n",
        "print(\"Duration: \" + str(duration))\n"
      ]
    },
    {
      "cell_type": "code",
      "execution_count": 26,
      "metadata": {
        "colab": {
          "base_uri": "https://localhost:8080/",
          "height": 1000
        },
        "id": "ZM0ywvJPavpv",
        "outputId": "18f70906-e8e9-4fee-ff22-ac0358981f7a"
      },
      "outputs": [
        {
          "name": "stdout",
          "output_type": "stream",
          "text": [
            "Using GPU\n",
            "--------Network--------\n",
            "VisionTransformer(\n",
            "  (embedding): EmbedLayer(\n",
            "    (conv1): Conv2d(1, 64, kernel_size=(4, 4), stride=(4, 4))\n",
            "    (dropout): Dropout(p=0.1, inplace=False)\n",
            "  )\n",
            "  (encoder): ModuleList(\n",
            "    (0-5): 6 x Encoder(\n",
            "      (norm1): LayerNorm((64,), eps=1e-05, elementwise_affine=True)\n",
            "      (attention): SelfAttention(\n",
            "        (queries): Linear(in_features=64, out_features=64, bias=True)\n",
            "        (keys): Linear(in_features=64, out_features=64, bias=True)\n",
            "        (values): Linear(in_features=64, out_features=64, bias=True)\n",
            "        (out_projection): Linear(in_features=64, out_features=64, bias=True)\n",
            "      )\n",
            "      (dropout1): Dropout(p=0.1, inplace=False)\n",
            "      (norm2): LayerNorm((64,), eps=1e-05, elementwise_affine=True)\n",
            "      (fc1): Linear(in_features=64, out_features=128, bias=True)\n",
            "      (activation): GELU(approximate='none')\n",
            "      (fc2): Linear(in_features=128, out_features=64, bias=True)\n",
            "      (dropout2): Dropout(p=0.1, inplace=False)\n",
            "    )\n",
            "  )\n",
            "  (norm): LayerNorm((64,), eps=1e-05, elementwise_affine=True)\n",
            "  (classifier): Classifier(\n",
            "    (fc1): Linear(in_features=64, out_features=64, bias=True)\n",
            "    (activation): Tanh()\n",
            "    (fc2): Linear(in_features=64, out_features=10, bias=True)\n",
            "  )\n",
            ")\n",
            "Using pretrained model\n"
          ]
        },
        {
          "name": "stderr",
          "output_type": "stream",
          "text": [
            "/usr/local/lib/python3.10/dist-packages/torch/utils/data/dataloader.py:558: UserWarning: This DataLoader will create 4 worker processes in total. Our suggested max number of worker in current system is 2, which is smaller than what this DataLoader is going to create. Please be aware that excessive worker creation might get DataLoader running slow or even freeze, lower the worker number to avoid potential slowness/freeze if necessary.\n",
            "  warnings.warn(_create_warning_msg(\n",
            "/usr/lib/python3.10/multiprocessing/popen_fork.py:66: RuntimeWarning: os.fork() was called. os.fork() is incompatible with multithreaded code, and JAX is multithreaded, so this will likely lead to a deadlock.\n",
            "  self.pid = os.fork()\n"
          ]
        },
        {
          "data": {
            "image/png": "[encoded data removed]",
            "text/plain": [
              "<Figure size 1200x600 with 10 Axes>"
            ]
          },
          "metadata": {},
          "output_type": "display_data"
        }
      ],
      "source": [
        "args = AllArguments()\n",
        "args.load_model=True\n",
        "args.batch_size=10\n",
        "# args.n_workers=1\n",
        "solver = Solver(args)\n",
        "solver.plot_mnist_predictions()"
      ]
    }
  ],
  "metadata": {
    "accelerator": "GPU",
    "colab": {
      "gpuType": "T4",
      "provenance": []
    },
    "kernelspec": {
      "display_name": "Python 3",
      "name": "python3"
    },
    "language_info": {
      "name": "python"
    }
  },
  "nbformat": 4,
  "nbformat_minor": 0
}
